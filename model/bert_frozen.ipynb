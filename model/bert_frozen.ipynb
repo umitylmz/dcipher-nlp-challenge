{
  "nbformat": 4,
  "nbformat_minor": 0,
  "metadata": {
    "accelerator": "GPU",
    "colab": {
      "name": "bert_frozen.ipynb",
      "provenance": [],
      "collapsed_sections": []
    },
    "kernelspec": {
      "display_name": "Python 3",
      "name": "python3"
    },
    "widgets": {
      "application/vnd.jupyter.widget-state+json": {
        "87c2daffe3a94a848606920eb0975b98": {
          "model_module": "@jupyter-widgets/controls",
          "model_name": "HBoxModel",
          "state": {
            "_view_name": "HBoxView",
            "_dom_classes": [],
            "_model_name": "HBoxModel",
            "_view_module": "@jupyter-widgets/controls",
            "_model_module_version": "1.5.0",
            "_view_count": null,
            "_view_module_version": "1.5.0",
            "box_style": "",
            "layout": "IPY_MODEL_8c67eebac91448e1bf73b6c4e837948d",
            "_model_module": "@jupyter-widgets/controls",
            "children": [
              "IPY_MODEL_8a61175c3e8848898fa508dd8d1d9002",
              "IPY_MODEL_f830166c30514fba8a49370a615b3403"
            ]
          }
        },
        "8c67eebac91448e1bf73b6c4e837948d": {
          "model_module": "@jupyter-widgets/base",
          "model_name": "LayoutModel",
          "state": {
            "_view_name": "LayoutView",
            "grid_template_rows": null,
            "right": null,
            "justify_content": null,
            "_view_module": "@jupyter-widgets/base",
            "overflow": null,
            "_model_module_version": "1.2.0",
            "_view_count": null,
            "flex_flow": null,
            "width": null,
            "min_width": null,
            "border": null,
            "align_items": null,
            "bottom": null,
            "_model_module": "@jupyter-widgets/base",
            "top": null,
            "grid_column": null,
            "overflow_y": null,
            "overflow_x": null,
            "grid_auto_flow": null,
            "grid_area": null,
            "grid_template_columns": null,
            "flex": null,
            "_model_name": "LayoutModel",
            "justify_items": null,
            "grid_row": null,
            "max_height": null,
            "align_content": null,
            "visibility": null,
            "align_self": null,
            "height": null,
            "min_height": null,
            "padding": null,
            "grid_auto_rows": null,
            "grid_gap": null,
            "max_width": null,
            "order": null,
            "_view_module_version": "1.2.0",
            "grid_template_areas": null,
            "object_position": null,
            "object_fit": null,
            "grid_auto_columns": null,
            "margin": null,
            "display": null,
            "left": null
          }
        },
        "8a61175c3e8848898fa508dd8d1d9002": {
          "model_module": "@jupyter-widgets/controls",
          "model_name": "FloatProgressModel",
          "state": {
            "_view_name": "ProgressView",
            "style": "IPY_MODEL_9f711c9b18c944708df28ce330f2f789",
            "_dom_classes": [],
            "description": "Downloading: 100%",
            "_model_name": "FloatProgressModel",
            "bar_style": "success",
            "max": 231508,
            "_view_module": "@jupyter-widgets/controls",
            "_model_module_version": "1.5.0",
            "value": 231508,
            "_view_count": null,
            "_view_module_version": "1.5.0",
            "orientation": "horizontal",
            "min": 0,
            "description_tooltip": null,
            "_model_module": "@jupyter-widgets/controls",
            "layout": "IPY_MODEL_297d5077d1134e058b319fd8f7b6ff28"
          }
        },
        "f830166c30514fba8a49370a615b3403": {
          "model_module": "@jupyter-widgets/controls",
          "model_name": "HTMLModel",
          "state": {
            "_view_name": "HTMLView",
            "style": "IPY_MODEL_4ddbf0d6891f4addae8ac477d8f55b23",
            "_dom_classes": [],
            "description": "",
            "_model_name": "HTMLModel",
            "placeholder": "​",
            "_view_module": "@jupyter-widgets/controls",
            "_model_module_version": "1.5.0",
            "value": " 232k/232k [00:00&lt;00:00, 2.92MB/s]",
            "_view_count": null,
            "_view_module_version": "1.5.0",
            "description_tooltip": null,
            "_model_module": "@jupyter-widgets/controls",
            "layout": "IPY_MODEL_cf7717869ec14204b8fcaebfbf7fd0cc"
          }
        },
        "9f711c9b18c944708df28ce330f2f789": {
          "model_module": "@jupyter-widgets/controls",
          "model_name": "ProgressStyleModel",
          "state": {
            "_view_name": "StyleView",
            "_model_name": "ProgressStyleModel",
            "description_width": "initial",
            "_view_module": "@jupyter-widgets/base",
            "_model_module_version": "1.5.0",
            "_view_count": null,
            "_view_module_version": "1.2.0",
            "bar_color": null,
            "_model_module": "@jupyter-widgets/controls"
          }
        },
        "297d5077d1134e058b319fd8f7b6ff28": {
          "model_module": "@jupyter-widgets/base",
          "model_name": "LayoutModel",
          "state": {
            "_view_name": "LayoutView",
            "grid_template_rows": null,
            "right": null,
            "justify_content": null,
            "_view_module": "@jupyter-widgets/base",
            "overflow": null,
            "_model_module_version": "1.2.0",
            "_view_count": null,
            "flex_flow": null,
            "width": null,
            "min_width": null,
            "border": null,
            "align_items": null,
            "bottom": null,
            "_model_module": "@jupyter-widgets/base",
            "top": null,
            "grid_column": null,
            "overflow_y": null,
            "overflow_x": null,
            "grid_auto_flow": null,
            "grid_area": null,
            "grid_template_columns": null,
            "flex": null,
            "_model_name": "LayoutModel",
            "justify_items": null,
            "grid_row": null,
            "max_height": null,
            "align_content": null,
            "visibility": null,
            "align_self": null,
            "height": null,
            "min_height": null,
            "padding": null,
            "grid_auto_rows": null,
            "grid_gap": null,
            "max_width": null,
            "order": null,
            "_view_module_version": "1.2.0",
            "grid_template_areas": null,
            "object_position": null,
            "object_fit": null,
            "grid_auto_columns": null,
            "margin": null,
            "display": null,
            "left": null
          }
        },
        "4ddbf0d6891f4addae8ac477d8f55b23": {
          "model_module": "@jupyter-widgets/controls",
          "model_name": "DescriptionStyleModel",
          "state": {
            "_view_name": "StyleView",
            "_model_name": "DescriptionStyleModel",
            "description_width": "",
            "_view_module": "@jupyter-widgets/base",
            "_model_module_version": "1.5.0",
            "_view_count": null,
            "_view_module_version": "1.2.0",
            "_model_module": "@jupyter-widgets/controls"
          }
        },
        "cf7717869ec14204b8fcaebfbf7fd0cc": {
          "model_module": "@jupyter-widgets/base",
          "model_name": "LayoutModel",
          "state": {
            "_view_name": "LayoutView",
            "grid_template_rows": null,
            "right": null,
            "justify_content": null,
            "_view_module": "@jupyter-widgets/base",
            "overflow": null,
            "_model_module_version": "1.2.0",
            "_view_count": null,
            "flex_flow": null,
            "width": null,
            "min_width": null,
            "border": null,
            "align_items": null,
            "bottom": null,
            "_model_module": "@jupyter-widgets/base",
            "top": null,
            "grid_column": null,
            "overflow_y": null,
            "overflow_x": null,
            "grid_auto_flow": null,
            "grid_area": null,
            "grid_template_columns": null,
            "flex": null,
            "_model_name": "LayoutModel",
            "justify_items": null,
            "grid_row": null,
            "max_height": null,
            "align_content": null,
            "visibility": null,
            "align_self": null,
            "height": null,
            "min_height": null,
            "padding": null,
            "grid_auto_rows": null,
            "grid_gap": null,
            "max_width": null,
            "order": null,
            "_view_module_version": "1.2.0",
            "grid_template_areas": null,
            "object_position": null,
            "object_fit": null,
            "grid_auto_columns": null,
            "margin": null,
            "display": null,
            "left": null
          }
        },
        "5b8830402321408b9768ba3ddb9a9e62": {
          "model_module": "@jupyter-widgets/controls",
          "model_name": "HBoxModel",
          "state": {
            "_view_name": "HBoxView",
            "_dom_classes": [],
            "_model_name": "HBoxModel",
            "_view_module": "@jupyter-widgets/controls",
            "_model_module_version": "1.5.0",
            "_view_count": null,
            "_view_module_version": "1.5.0",
            "box_style": "",
            "layout": "IPY_MODEL_9f9569169d284f46872684e43766ce96",
            "_model_module": "@jupyter-widgets/controls",
            "children": [
              "IPY_MODEL_17dcd89c12f04fc6b257a4198a590cfd",
              "IPY_MODEL_373fc648ea6f4d339f127fce16030138"
            ]
          }
        },
        "9f9569169d284f46872684e43766ce96": {
          "model_module": "@jupyter-widgets/base",
          "model_name": "LayoutModel",
          "state": {
            "_view_name": "LayoutView",
            "grid_template_rows": null,
            "right": null,
            "justify_content": null,
            "_view_module": "@jupyter-widgets/base",
            "overflow": null,
            "_model_module_version": "1.2.0",
            "_view_count": null,
            "flex_flow": null,
            "width": null,
            "min_width": null,
            "border": null,
            "align_items": null,
            "bottom": null,
            "_model_module": "@jupyter-widgets/base",
            "top": null,
            "grid_column": null,
            "overflow_y": null,
            "overflow_x": null,
            "grid_auto_flow": null,
            "grid_area": null,
            "grid_template_columns": null,
            "flex": null,
            "_model_name": "LayoutModel",
            "justify_items": null,
            "grid_row": null,
            "max_height": null,
            "align_content": null,
            "visibility": null,
            "align_self": null,
            "height": null,
            "min_height": null,
            "padding": null,
            "grid_auto_rows": null,
            "grid_gap": null,
            "max_width": null,
            "order": null,
            "_view_module_version": "1.2.0",
            "grid_template_areas": null,
            "object_position": null,
            "object_fit": null,
            "grid_auto_columns": null,
            "margin": null,
            "display": null,
            "left": null
          }
        },
        "17dcd89c12f04fc6b257a4198a590cfd": {
          "model_module": "@jupyter-widgets/controls",
          "model_name": "FloatProgressModel",
          "state": {
            "_view_name": "ProgressView",
            "style": "IPY_MODEL_bf6d029bd02e4beaa7edfb91474c76b4",
            "_dom_classes": [],
            "description": "Downloading: 100%",
            "_model_name": "FloatProgressModel",
            "bar_style": "success",
            "max": 433,
            "_view_module": "@jupyter-widgets/controls",
            "_model_module_version": "1.5.0",
            "value": 433,
            "_view_count": null,
            "_view_module_version": "1.5.0",
            "orientation": "horizontal",
            "min": 0,
            "description_tooltip": null,
            "_model_module": "@jupyter-widgets/controls",
            "layout": "IPY_MODEL_6464bedbf3974e76bae5109572e16e11"
          }
        },
        "373fc648ea6f4d339f127fce16030138": {
          "model_module": "@jupyter-widgets/controls",
          "model_name": "HTMLModel",
          "state": {
            "_view_name": "HTMLView",
            "style": "IPY_MODEL_104cc5066bea47d29aa18cda8e8eff31",
            "_dom_classes": [],
            "description": "",
            "_model_name": "HTMLModel",
            "placeholder": "​",
            "_view_module": "@jupyter-widgets/controls",
            "_model_module_version": "1.5.0",
            "value": " 433/433 [00:06&lt;00:00, 66.1B/s]",
            "_view_count": null,
            "_view_module_version": "1.5.0",
            "description_tooltip": null,
            "_model_module": "@jupyter-widgets/controls",
            "layout": "IPY_MODEL_2660d58217304f1db71fe0b337255872"
          }
        },
        "bf6d029bd02e4beaa7edfb91474c76b4": {
          "model_module": "@jupyter-widgets/controls",
          "model_name": "ProgressStyleModel",
          "state": {
            "_view_name": "StyleView",
            "_model_name": "ProgressStyleModel",
            "description_width": "initial",
            "_view_module": "@jupyter-widgets/base",
            "_model_module_version": "1.5.0",
            "_view_count": null,
            "_view_module_version": "1.2.0",
            "bar_color": null,
            "_model_module": "@jupyter-widgets/controls"
          }
        },
        "6464bedbf3974e76bae5109572e16e11": {
          "model_module": "@jupyter-widgets/base",
          "model_name": "LayoutModel",
          "state": {
            "_view_name": "LayoutView",
            "grid_template_rows": null,
            "right": null,
            "justify_content": null,
            "_view_module": "@jupyter-widgets/base",
            "overflow": null,
            "_model_module_version": "1.2.0",
            "_view_count": null,
            "flex_flow": null,
            "width": null,
            "min_width": null,
            "border": null,
            "align_items": null,
            "bottom": null,
            "_model_module": "@jupyter-widgets/base",
            "top": null,
            "grid_column": null,
            "overflow_y": null,
            "overflow_x": null,
            "grid_auto_flow": null,
            "grid_area": null,
            "grid_template_columns": null,
            "flex": null,
            "_model_name": "LayoutModel",
            "justify_items": null,
            "grid_row": null,
            "max_height": null,
            "align_content": null,
            "visibility": null,
            "align_self": null,
            "height": null,
            "min_height": null,
            "padding": null,
            "grid_auto_rows": null,
            "grid_gap": null,
            "max_width": null,
            "order": null,
            "_view_module_version": "1.2.0",
            "grid_template_areas": null,
            "object_position": null,
            "object_fit": null,
            "grid_auto_columns": null,
            "margin": null,
            "display": null,
            "left": null
          }
        },
        "104cc5066bea47d29aa18cda8e8eff31": {
          "model_module": "@jupyter-widgets/controls",
          "model_name": "DescriptionStyleModel",
          "state": {
            "_view_name": "StyleView",
            "_model_name": "DescriptionStyleModel",
            "description_width": "",
            "_view_module": "@jupyter-widgets/base",
            "_model_module_version": "1.5.0",
            "_view_count": null,
            "_view_module_version": "1.2.0",
            "_model_module": "@jupyter-widgets/controls"
          }
        },
        "2660d58217304f1db71fe0b337255872": {
          "model_module": "@jupyter-widgets/base",
          "model_name": "LayoutModel",
          "state": {
            "_view_name": "LayoutView",
            "grid_template_rows": null,
            "right": null,
            "justify_content": null,
            "_view_module": "@jupyter-widgets/base",
            "overflow": null,
            "_model_module_version": "1.2.0",
            "_view_count": null,
            "flex_flow": null,
            "width": null,
            "min_width": null,
            "border": null,
            "align_items": null,
            "bottom": null,
            "_model_module": "@jupyter-widgets/base",
            "top": null,
            "grid_column": null,
            "overflow_y": null,
            "overflow_x": null,
            "grid_auto_flow": null,
            "grid_area": null,
            "grid_template_columns": null,
            "flex": null,
            "_model_name": "LayoutModel",
            "justify_items": null,
            "grid_row": null,
            "max_height": null,
            "align_content": null,
            "visibility": null,
            "align_self": null,
            "height": null,
            "min_height": null,
            "padding": null,
            "grid_auto_rows": null,
            "grid_gap": null,
            "max_width": null,
            "order": null,
            "_view_module_version": "1.2.0",
            "grid_template_areas": null,
            "object_position": null,
            "object_fit": null,
            "grid_auto_columns": null,
            "margin": null,
            "display": null,
            "left": null
          }
        },
        "c71f2965bf324698b32cac905149792c": {
          "model_module": "@jupyter-widgets/controls",
          "model_name": "HBoxModel",
          "state": {
            "_view_name": "HBoxView",
            "_dom_classes": [],
            "_model_name": "HBoxModel",
            "_view_module": "@jupyter-widgets/controls",
            "_model_module_version": "1.5.0",
            "_view_count": null,
            "_view_module_version": "1.5.0",
            "box_style": "",
            "layout": "IPY_MODEL_3156ea5920444722a16eafba733d6fed",
            "_model_module": "@jupyter-widgets/controls",
            "children": [
              "IPY_MODEL_ee1b6d95b80d4900ac3bc58df1614856",
              "IPY_MODEL_87259cf460bd4c25830ba091ab473c73"
            ]
          }
        },
        "3156ea5920444722a16eafba733d6fed": {
          "model_module": "@jupyter-widgets/base",
          "model_name": "LayoutModel",
          "state": {
            "_view_name": "LayoutView",
            "grid_template_rows": null,
            "right": null,
            "justify_content": null,
            "_view_module": "@jupyter-widgets/base",
            "overflow": null,
            "_model_module_version": "1.2.0",
            "_view_count": null,
            "flex_flow": null,
            "width": null,
            "min_width": null,
            "border": null,
            "align_items": null,
            "bottom": null,
            "_model_module": "@jupyter-widgets/base",
            "top": null,
            "grid_column": null,
            "overflow_y": null,
            "overflow_x": null,
            "grid_auto_flow": null,
            "grid_area": null,
            "grid_template_columns": null,
            "flex": null,
            "_model_name": "LayoutModel",
            "justify_items": null,
            "grid_row": null,
            "max_height": null,
            "align_content": null,
            "visibility": null,
            "align_self": null,
            "height": null,
            "min_height": null,
            "padding": null,
            "grid_auto_rows": null,
            "grid_gap": null,
            "max_width": null,
            "order": null,
            "_view_module_version": "1.2.0",
            "grid_template_areas": null,
            "object_position": null,
            "object_fit": null,
            "grid_auto_columns": null,
            "margin": null,
            "display": null,
            "left": null
          }
        },
        "ee1b6d95b80d4900ac3bc58df1614856": {
          "model_module": "@jupyter-widgets/controls",
          "model_name": "FloatProgressModel",
          "state": {
            "_view_name": "ProgressView",
            "style": "IPY_MODEL_cb63066b8d704c799bb167c8e3edc9a9",
            "_dom_classes": [],
            "description": "Downloading: 100%",
            "_model_name": "FloatProgressModel",
            "bar_style": "success",
            "max": 440473133,
            "_view_module": "@jupyter-widgets/controls",
            "_model_module_version": "1.5.0",
            "value": 440473133,
            "_view_count": null,
            "_view_module_version": "1.5.0",
            "orientation": "horizontal",
            "min": 0,
            "description_tooltip": null,
            "_model_module": "@jupyter-widgets/controls",
            "layout": "IPY_MODEL_7f928b949f8d413d8f82e420f98ac89a"
          }
        },
        "87259cf460bd4c25830ba091ab473c73": {
          "model_module": "@jupyter-widgets/controls",
          "model_name": "HTMLModel",
          "state": {
            "_view_name": "HTMLView",
            "style": "IPY_MODEL_57c5358a6481427d9504a7b294458a1b",
            "_dom_classes": [],
            "description": "",
            "_model_name": "HTMLModel",
            "placeholder": "​",
            "_view_module": "@jupyter-widgets/controls",
            "_model_module_version": "1.5.0",
            "value": " 440M/440M [00:06&lt;00:00, 69.1MB/s]",
            "_view_count": null,
            "_view_module_version": "1.5.0",
            "description_tooltip": null,
            "_model_module": "@jupyter-widgets/controls",
            "layout": "IPY_MODEL_023c904e54fd475382714f6655bd2ebd"
          }
        },
        "cb63066b8d704c799bb167c8e3edc9a9": {
          "model_module": "@jupyter-widgets/controls",
          "model_name": "ProgressStyleModel",
          "state": {
            "_view_name": "StyleView",
            "_model_name": "ProgressStyleModel",
            "description_width": "initial",
            "_view_module": "@jupyter-widgets/base",
            "_model_module_version": "1.5.0",
            "_view_count": null,
            "_view_module_version": "1.2.0",
            "bar_color": null,
            "_model_module": "@jupyter-widgets/controls"
          }
        },
        "7f928b949f8d413d8f82e420f98ac89a": {
          "model_module": "@jupyter-widgets/base",
          "model_name": "LayoutModel",
          "state": {
            "_view_name": "LayoutView",
            "grid_template_rows": null,
            "right": null,
            "justify_content": null,
            "_view_module": "@jupyter-widgets/base",
            "overflow": null,
            "_model_module_version": "1.2.0",
            "_view_count": null,
            "flex_flow": null,
            "width": null,
            "min_width": null,
            "border": null,
            "align_items": null,
            "bottom": null,
            "_model_module": "@jupyter-widgets/base",
            "top": null,
            "grid_column": null,
            "overflow_y": null,
            "overflow_x": null,
            "grid_auto_flow": null,
            "grid_area": null,
            "grid_template_columns": null,
            "flex": null,
            "_model_name": "LayoutModel",
            "justify_items": null,
            "grid_row": null,
            "max_height": null,
            "align_content": null,
            "visibility": null,
            "align_self": null,
            "height": null,
            "min_height": null,
            "padding": null,
            "grid_auto_rows": null,
            "grid_gap": null,
            "max_width": null,
            "order": null,
            "_view_module_version": "1.2.0",
            "grid_template_areas": null,
            "object_position": null,
            "object_fit": null,
            "grid_auto_columns": null,
            "margin": null,
            "display": null,
            "left": null
          }
        },
        "57c5358a6481427d9504a7b294458a1b": {
          "model_module": "@jupyter-widgets/controls",
          "model_name": "DescriptionStyleModel",
          "state": {
            "_view_name": "StyleView",
            "_model_name": "DescriptionStyleModel",
            "description_width": "",
            "_view_module": "@jupyter-widgets/base",
            "_model_module_version": "1.5.0",
            "_view_count": null,
            "_view_module_version": "1.2.0",
            "_model_module": "@jupyter-widgets/controls"
          }
        },
        "023c904e54fd475382714f6655bd2ebd": {
          "model_module": "@jupyter-widgets/base",
          "model_name": "LayoutModel",
          "state": {
            "_view_name": "LayoutView",
            "grid_template_rows": null,
            "right": null,
            "justify_content": null,
            "_view_module": "@jupyter-widgets/base",
            "overflow": null,
            "_model_module_version": "1.2.0",
            "_view_count": null,
            "flex_flow": null,
            "width": null,
            "min_width": null,
            "border": null,
            "align_items": null,
            "bottom": null,
            "_model_module": "@jupyter-widgets/base",
            "top": null,
            "grid_column": null,
            "overflow_y": null,
            "overflow_x": null,
            "grid_auto_flow": null,
            "grid_area": null,
            "grid_template_columns": null,
            "flex": null,
            "_model_name": "LayoutModel",
            "justify_items": null,
            "grid_row": null,
            "max_height": null,
            "align_content": null,
            "visibility": null,
            "align_self": null,
            "height": null,
            "min_height": null,
            "padding": null,
            "grid_auto_rows": null,
            "grid_gap": null,
            "max_width": null,
            "order": null,
            "_view_module_version": "1.2.0",
            "grid_template_areas": null,
            "object_position": null,
            "object_fit": null,
            "grid_auto_columns": null,
            "margin": null,
            "display": null,
            "left": null
          }
        }
      }
    }
  },
  "cells": [
    {
      "cell_type": "code",
      "metadata": {
        "id": "vgF6VR8fVUS6",
        "colab": {
          "base_uri": "https://localhost:8080/"
        },
        "outputId": "e48058bb-e232-4464-a52a-57f96f19ab5f"
      },
      "source": [
        "!git clone https://github.com/kairosfuture/dcipher-nlp-challenge.git\n",
        "!pip install transformers\n",
        "!pip install pycodestyle\n",
        "!pip install --index-url https://test.pypi.org/simple/ nbpep8"
      ],
      "execution_count": 1,
      "outputs": [
        {
          "output_type": "stream",
          "text": [
            "Cloning into 'dcipher-nlp-challenge'...\n",
            "remote: Enumerating objects: 22, done.\u001b[K\n",
            "remote: Counting objects: 100% (22/22), done.\u001b[K\n",
            "remote: Compressing objects: 100% (14/14), done.\u001b[K\n",
            "remote: Total 22 (delta 9), reused 18 (delta 5), pack-reused 0\u001b[K\n",
            "Unpacking objects: 100% (22/22), done.\n",
            "Collecting transformers\n",
            "\u001b[?25l  Downloading https://files.pythonhosted.org/packages/50/0c/7d5950fcd80b029be0a8891727ba21e0cd27692c407c51261c3c921f6da3/transformers-4.1.1-py3-none-any.whl (1.5MB)\n",
            "\u001b[K     |████████████████████████████████| 1.5MB 12.5MB/s \n",
            "\u001b[?25hRequirement already satisfied: regex!=2019.12.17 in /usr/local/lib/python3.6/dist-packages (from transformers) (2019.12.20)\n",
            "Requirement already satisfied: requests in /usr/local/lib/python3.6/dist-packages (from transformers) (2.23.0)\n",
            "Collecting tokenizers==0.9.4\n",
            "\u001b[?25l  Downloading https://files.pythonhosted.org/packages/0f/1c/e789a8b12e28be5bc1ce2156cf87cb522b379be9cadc7ad8091a4cc107c4/tokenizers-0.9.4-cp36-cp36m-manylinux2010_x86_64.whl (2.9MB)\n",
            "\u001b[K     |████████████████████████████████| 2.9MB 56.8MB/s \n",
            "\u001b[?25hRequirement already satisfied: filelock in /usr/local/lib/python3.6/dist-packages (from transformers) (3.0.12)\n",
            "Requirement already satisfied: tqdm>=4.27 in /usr/local/lib/python3.6/dist-packages (from transformers) (4.41.1)\n",
            "Requirement already satisfied: numpy in /usr/local/lib/python3.6/dist-packages (from transformers) (1.19.4)\n",
            "Requirement already satisfied: dataclasses; python_version < \"3.7\" in /usr/local/lib/python3.6/dist-packages (from transformers) (0.8)\n",
            "Requirement already satisfied: packaging in /usr/local/lib/python3.6/dist-packages (from transformers) (20.8)\n",
            "Collecting sacremoses\n",
            "\u001b[?25l  Downloading https://files.pythonhosted.org/packages/7d/34/09d19aff26edcc8eb2a01bed8e98f13a1537005d31e95233fd48216eed10/sacremoses-0.0.43.tar.gz (883kB)\n",
            "\u001b[K     |████████████████████████████████| 890kB 48.2MB/s \n",
            "\u001b[?25hRequirement already satisfied: certifi>=2017.4.17 in /usr/local/lib/python3.6/dist-packages (from requests->transformers) (2020.12.5)\n",
            "Requirement already satisfied: urllib3!=1.25.0,!=1.25.1,<1.26,>=1.21.1 in /usr/local/lib/python3.6/dist-packages (from requests->transformers) (1.24.3)\n",
            "Requirement already satisfied: chardet<4,>=3.0.2 in /usr/local/lib/python3.6/dist-packages (from requests->transformers) (3.0.4)\n",
            "Requirement already satisfied: idna<3,>=2.5 in /usr/local/lib/python3.6/dist-packages (from requests->transformers) (2.10)\n",
            "Requirement already satisfied: pyparsing>=2.0.2 in /usr/local/lib/python3.6/dist-packages (from packaging->transformers) (2.4.7)\n",
            "Requirement already satisfied: six in /usr/local/lib/python3.6/dist-packages (from sacremoses->transformers) (1.15.0)\n",
            "Requirement already satisfied: click in /usr/local/lib/python3.6/dist-packages (from sacremoses->transformers) (7.1.2)\n",
            "Requirement already satisfied: joblib in /usr/local/lib/python3.6/dist-packages (from sacremoses->transformers) (1.0.0)\n",
            "Building wheels for collected packages: sacremoses\n",
            "  Building wheel for sacremoses (setup.py) ... \u001b[?25l\u001b[?25hdone\n",
            "  Created wheel for sacremoses: filename=sacremoses-0.0.43-cp36-none-any.whl size=893261 sha256=ed604e63a8bf653fa97beda41f96b4173212052799914f225b779c5b4c37de82\n",
            "  Stored in directory: /root/.cache/pip/wheels/29/3c/fd/7ce5c3f0666dab31a50123635e6fb5e19ceb42ce38d4e58f45\n",
            "Successfully built sacremoses\n",
            "Installing collected packages: tokenizers, sacremoses, transformers\n",
            "Successfully installed sacremoses-0.0.43 tokenizers-0.9.4 transformers-4.1.1\n",
            "Collecting pycodestyle\n",
            "\u001b[?25l  Downloading https://files.pythonhosted.org/packages/10/5b/88879fb861ab79aef45c7e199cae3ef7af487b5603dcb363517a50602dd7/pycodestyle-2.6.0-py2.py3-none-any.whl (41kB)\n",
            "\u001b[K     |████████████████████████████████| 51kB 5.9MB/s \n",
            "\u001b[?25hInstalling collected packages: pycodestyle\n",
            "Successfully installed pycodestyle-2.6.0\n",
            "Looking in indexes: https://test.pypi.org/simple/\n",
            "Collecting nbpep8\n",
            "  Downloading https://test-files.pythonhosted.org/packages/c1/07/6b91c986efe7c3adac9e2ec061037f0cc4307925819d37277c3802c2d117/nbpep8-0.0.15-py3-none-any.whl\n",
            "Installing collected packages: nbpep8\n",
            "Successfully installed nbpep8-0.0.15\n"
          ],
          "name": "stdout"
        }
      ]
    },
    {
      "cell_type": "code",
      "metadata": {
        "id": "e-pP-b0GAPsg",
        "colab": {
          "base_uri": "https://localhost:8080/"
        },
        "outputId": "a947588b-2380-4da0-d1cc-f1aa94bb7689"
      },
      "source": [
        "from google.colab import drive\n",
        "drive.mount('/content/drive')"
      ],
      "execution_count": 2,
      "outputs": [
        {
          "output_type": "stream",
          "text": [
            "Mounted at /content/drive\n"
          ],
          "name": "stdout"
        }
      ]
    },
    {
      "cell_type": "code",
      "metadata": {
        "id": "wfGgMRdadUR2"
      },
      "source": [
        "import json\n",
        "import pandas as pd   \n",
        "import numpy as np\n",
        "import torch\n",
        "import torch.nn as nn\n",
        "import torch.optim as optim\n",
        "from sklearn.model_selection import train_test_split\n",
        "from sklearn.metrics import classification_report\n",
        "import transformers\n",
        "from transformers import BertTokenizer, AutoModel\n",
        "from transformers import AdamW\n",
        "import os\n",
        "from sklearn.metrics import f1_score\n",
        "from sklearn.metrics import accuracy_score\n",
        "from matplotlib import pyplot\n",
        "from sklearn import metrics\n",
        "from sklearn.metrics import roc_curve\n",
        "from sklearn.metrics import roc_auc_score\n",
        "os.environ['CUDA_LAUNCH_BLOCKING'] = \"1\""
      ],
      "execution_count": 3,
      "outputs": []
    },
    {
      "cell_type": "code",
      "metadata": {
        "id": "Si9mJ5CeWHFc",
        "colab": {
          "base_uri": "https://localhost:8080/"
        },
        "outputId": "a66bddb5-deb5-4ed2-80bc-4d767d110dbc"
      },
      "source": [
        "file = '/content/dcipher-nlp-challenge/data/wos2class.json'\n",
        "with open(file) as df:\n",
        "    dict_train = json.load(df)\n",
        "\n",
        "df = pd.DataFrame.from_dict(dict_train)\n",
        "print(df.shape)\n",
        "print(df.isna().sum())\n",
        "\n",
        "df.drop(df[df['Abstract'].str.len() < 10].index, inplace=True)\n",
        "df['title_abstract'] = df['Title'] + \". \" + df['Abstract']\n",
        "df['Label'] = (df['Label'] == 'Material Science').astype('int')\n",
        "\n",
        "print(df['Label'].value_counts(normalize=True))"
      ],
      "execution_count": 4,
      "outputs": [
        {
          "output_type": "stream",
          "text": [
            "(7494, 3)\n",
            "Title       0\n",
            "Abstract    0\n",
            "Label       0\n",
            "dtype: int64\n",
            "1    0.506072\n",
            "0    0.493928\n",
            "Name: Label, dtype: float64\n"
          ],
          "name": "stdout"
        }
      ]
    },
    {
      "cell_type": "code",
      "metadata": {
        "id": "vEhR6OumoDUA",
        "colab": {
          "base_uri": "https://localhost:8080/",
          "height": 54
        },
        "outputId": "425b6320-0ef2-4e84-c413-e9f1a9711e0c"
      },
      "source": [
        "train, test, y_train, y_test = train_test_split(df['title_abstract'],\n",
        "                                                df['Label'],\n",
        "                                                test_size=0.2,\n",
        "                                                random_state=42,\n",
        "                                                stratify=df['Label'])\n",
        "\n",
        "train, val, y_train, y_val = train_test_split(train,\n",
        "                                              y_train,\n",
        "                                              test_size=0.2,\n",
        "                                              random_state=42,\n",
        "                                              stratify=y_train)\n",
        "\n",
        "'''\n",
        "df_train = pd.concat([train, y_train], ignore_index=True, sort=False, axis=1)\n",
        "df_val = pd.concat([val, y_val], ignore_index=True, sort=False, axis=1)\n",
        "df_test = pd.concat([test, y_test], ignore_index=True, sort=False, axis=1)\n",
        "\n",
        "df_train.to_csv('train.csv', index=False)\n",
        "df_val.to_csv('valid.csv', index=False)\n",
        "df_test.to_csv('test.csv', index=False)\n",
        "'''"
      ],
      "execution_count": 5,
      "outputs": [
        {
          "output_type": "execute_result",
          "data": {
            "application/vnd.google.colaboratory.intrinsic+json": {
              "type": "string"
            },
            "text/plain": [
              "\"\\ndf_train = pd.concat([train, y_train], ignore_index=True, sort=False, axis=1)\\ndf_val = pd.concat([val, y_val], ignore_index=True, sort=False, axis=1)\\ndf_test = pd.concat([test, y_test], ignore_index=True, sort=False, axis=1)\\n\\ndf_train.to_csv('train.csv', index=False)\\ndf_val.to_csv('valid.csv', index=False)\\ndf_test.to_csv('test.csv', index=False)\\n\""
            ]
          },
          "metadata": {
            "tags": []
          },
          "execution_count": 5
        }
      ]
    },
    {
      "cell_type": "code",
      "metadata": {
        "id": "I9RTAn_1sc45",
        "colab": {
          "base_uri": "https://localhost:8080/"
        },
        "outputId": "2a4834d1-ecf8-4822-d26b-8475ea0d8b89"
      },
      "source": [
        "device = torch.device(\"cuda:0\" if torch.cuda.is_available() else \"cpu\")\n",
        "torch.backends.cudnn.deterministic = True\n",
        "seed = 17\n",
        "torch.manual_seed(seed)"
      ],
      "execution_count": 6,
      "outputs": [
        {
          "output_type": "execute_result",
          "data": {
            "text/plain": [
              "<torch._C.Generator at 0x7f9d7823ec30>"
            ]
          },
          "metadata": {
            "tags": []
          },
          "execution_count": 6
        }
      ]
    },
    {
      "cell_type": "code",
      "metadata": {
        "id": "gRBEeZ6nHB7Y",
        "colab": {
          "base_uri": "https://localhost:8080/",
          "height": 265
        },
        "outputId": "863ddbd5-68e3-49eb-f61d-2a44a92b1bda"
      },
      "source": [
        "seq_len = [len(i.split()) for i in train]\n",
        "pd.Series(seq_len).hist(bins=50)\n",
        "max_seq_len = 512"
      ],
      "execution_count": 7,
      "outputs": [
        {
          "output_type": "display_data",
          "data": {
            "image/png": "[encoded data removed]",
            "text/plain": [
              "<Figure size 432x288 with 1 Axes>"
            ]
          },
          "metadata": {
            "tags": [],
            "needs_background": "light"
          }
        }
      ]
    },
    {
      "cell_type": "code",
      "metadata": {
        "id": "vbBn0_PoJgRe",
        "colab": {
          "base_uri": "https://localhost:8080/",
          "height": 66,
          "referenced_widgets": [
            "87c2daffe3a94a848606920eb0975b98",
            "8c67eebac91448e1bf73b6c4e837948d",
            "8a61175c3e8848898fa508dd8d1d9002",
            "f830166c30514fba8a49370a615b3403",
            "9f711c9b18c944708df28ce330f2f789",
            "297d5077d1134e058b319fd8f7b6ff28",
            "4ddbf0d6891f4addae8ac477d8f55b23",
            "cf7717869ec14204b8fcaebfbf7fd0cc"
          ]
        },
        "outputId": "f4340e0f-f5aa-4e3a-8431-322cdfbd797c"
      },
      "source": [
        "tokenizer = BertTokenizer.from_pretrained('bert-base-uncased')\n",
        "\n",
        "tokens_train = tokenizer.batch_encode_plus(train.tolist(),\n",
        "                                           max_length=max_seq_len,\n",
        "                                           padding=True,\n",
        "                                           truncation=True,\n",
        "                                           return_token_type_ids=False)\n",
        "\n",
        "tokens_val = tokenizer.batch_encode_plus(val.tolist(),\n",
        "                                         max_length=max_seq_len,\n",
        "                                         padding=True,\n",
        "                                         truncation=True,\n",
        "                                         return_token_type_ids=False)\n",
        "\n",
        "tokens_test = tokenizer.batch_encode_plus(test.tolist(),\n",
        "                                          max_length=max_seq_len,\n",
        "                                          padding=True,\n",
        "                                          truncation=True,\n",
        "                                          return_token_type_ids=False)"
      ],
      "execution_count": 8,
      "outputs": [
        {
          "output_type": "display_data",
          "data": {
            "application/vnd.jupyter.widget-view+json": {
              "model_id": "87c2daffe3a94a848606920eb0975b98",
              "version_minor": 0,
              "version_major": 2
            },
            "text/plain": [
              "HBox(children=(FloatProgress(value=0.0, description='Downloading', max=231508.0, style=ProgressStyle(descripti…"
            ]
          },
          "metadata": {
            "tags": []
          }
        },
        {
          "output_type": "stream",
          "text": [
            "\n"
          ],
          "name": "stdout"
        }
      ]
    },
    {
      "cell_type": "code",
      "metadata": {
        "id": "niTwunqTJ3Hs"
      },
      "source": [
        "train_seq = torch.tensor(tokens_train['input_ids'])\n",
        "train_mask = torch.tensor(tokens_train['attention_mask'])\n",
        "train_y = torch.tensor(y_train.tolist())\n",
        "\n",
        "val_seq = torch.tensor(tokens_val['input_ids'])\n",
        "val_mask = torch.tensor(tokens_val['attention_mask'])\n",
        "val_y = torch.tensor(y_val.tolist())\n",
        "\n",
        "test_seq = torch.tensor(tokens_test['input_ids'])\n",
        "test_mask = torch.tensor(tokens_test['attention_mask'])\n",
        "test_y = torch.tensor(y_test.tolist())"
      ],
      "execution_count": 9,
      "outputs": []
    },
    {
      "cell_type": "code",
      "metadata": {
        "id": "HqrrXAmSNg_k"
      },
      "source": [
        "from torch.utils.data import TensorDataset, DataLoader\n",
        "from torch.utils.data import RandomSampler, SequentialSampler\n",
        "\n",
        "batch_size = 12\n",
        "\n",
        "train_data = TensorDataset(train_seq, train_mask, train_y)\n",
        "train_sampler = RandomSampler(train_data)\n",
        "train_dataloader = DataLoader(train_data,\n",
        "                              sampler=train_sampler,\n",
        "                              batch_size=batch_size)\n",
        "\n",
        "val_data = TensorDataset(val_seq, val_mask, val_y)\n",
        "val_sampler = SequentialSampler(val_data)\n",
        "val_dataloader = DataLoader(val_data,\n",
        "                            sampler=val_sampler,\n",
        "                            batch_size=batch_size)\n",
        "\n",
        "test_data = TensorDataset(test_seq, test_mask, test_y)\n",
        "test_sampler = SequentialSampler(test_data)\n",
        "test_dataloader = DataLoader(test_data,\n",
        "                             sampler=test_sampler,\n",
        "                             batch_size=3)"
      ],
      "execution_count": 10,
      "outputs": []
    },
    {
      "cell_type": "code",
      "metadata": {
        "id": "ef_-6f418GQe"
      },
      "source": [
        "class BERT_Arch(nn.Module):\n",
        "\n",
        "    def __init__(self, bert):\n",
        "      \n",
        "      super(BERT_Arch, self).__init__()\n",
        "\n",
        "      self.bert = bert \n",
        "      \n",
        "      # dropout layer\n",
        "      self.dropout = nn.Dropout(0.1)\n",
        "      \n",
        "      # relu activation function\n",
        "      self.relu =  nn.ReLU()\n",
        "\n",
        "      # dense layer 1\n",
        "      self.fc1 = nn.Linear(768*4,512)\n",
        "      \n",
        "      # dense layer 2 (Output layer)\n",
        "      self.fc2 = nn.Linear(512,2)\n",
        "\n",
        "      #softmax activation function\n",
        "      self.softmax = nn.LogSoftmax(dim=1)\n",
        "\n",
        "    #define the forward pass\n",
        "    def forward(self, sent_id, mask):\n",
        "\n",
        "      #pass the inputs to the model  \n",
        "      outputs = self.bert(sent_id, attention_mask=mask, output_hidden_states=True)\n",
        "      #print(outputs.size())\n",
        "      hidden_states = outputs[2]\n",
        "      pooled_output = torch.cat(tuple([hidden_states[i] for i in [-4, -3, -2, -1]]), dim=-1)\n",
        "      pooled_output = pooled_output[:, 0, :]\n",
        "      pooled_output = self.dropout(pooled_output)\n",
        "\n",
        "      x = self.fc1(pooled_output)\n",
        "\n",
        "      x = self.relu(x)\n",
        "\n",
        "      x = self.dropout(x)\n",
        "\n",
        "      # output layer\n",
        "      x = self.fc2(x)\n",
        "      \n",
        "      # apply softmax activation\n",
        "      x = self.softmax(x)\n",
        "\n",
        "      return x"
      ],
      "execution_count": 11,
      "outputs": []
    },
    {
      "cell_type": "code",
      "metadata": {
        "id": "VA5K1ZlXNvp-",
        "colab": {
          "base_uri": "https://localhost:8080/",
          "height": 115,
          "referenced_widgets": [
            "5b8830402321408b9768ba3ddb9a9e62",
            "9f9569169d284f46872684e43766ce96",
            "17dcd89c12f04fc6b257a4198a590cfd",
            "373fc648ea6f4d339f127fce16030138",
            "bf6d029bd02e4beaa7edfb91474c76b4",
            "6464bedbf3974e76bae5109572e16e11",
            "104cc5066bea47d29aa18cda8e8eff31",
            "2660d58217304f1db71fe0b337255872",
            "c71f2965bf324698b32cac905149792c",
            "3156ea5920444722a16eafba733d6fed",
            "ee1b6d95b80d4900ac3bc58df1614856",
            "87259cf460bd4c25830ba091ab473c73",
            "cb63066b8d704c799bb167c8e3edc9a9",
            "7f928b949f8d413d8f82e420f98ac89a",
            "57c5358a6481427d9504a7b294458a1b",
            "023c904e54fd475382714f6655bd2ebd"
          ]
        },
        "outputId": "b8e09bfb-1467-4e71-e84b-ebd9308497e2"
      },
      "source": [
        "bert = AutoModel.from_pretrained('bert-base-uncased')\n",
        "\n",
        "for param in bert.parameters():\n",
        "    param.requires_grad = False\n",
        "    \n",
        "model = BERT_Arch(bert)\n",
        "model = model.to(device)\n",
        "optimizer = AdamW(model.parameters(), lr=0.001)"
      ],
      "execution_count": 12,
      "outputs": [
        {
          "output_type": "display_data",
          "data": {
            "application/vnd.jupyter.widget-view+json": {
              "model_id": "5b8830402321408b9768ba3ddb9a9e62",
              "version_minor": 0,
              "version_major": 2
            },
            "text/plain": [
              "HBox(children=(FloatProgress(value=0.0, description='Downloading', max=433.0, style=ProgressStyle(description_…"
            ]
          },
          "metadata": {
            "tags": []
          }
        },
        {
          "output_type": "stream",
          "text": [
            "\n"
          ],
          "name": "stdout"
        },
        {
          "output_type": "display_data",
          "data": {
            "application/vnd.jupyter.widget-view+json": {
              "model_id": "c71f2965bf324698b32cac905149792c",
              "version_minor": 0,
              "version_major": 2
            },
            "text/plain": [
              "HBox(children=(FloatProgress(value=0.0, description='Downloading', max=440473133.0, style=ProgressStyle(descri…"
            ]
          },
          "metadata": {
            "tags": []
          }
        },
        {
          "output_type": "stream",
          "text": [
            "\n"
          ],
          "name": "stdout"
        }
      ]
    },
    {
      "cell_type": "code",
      "metadata": {
        "id": "fr2OGGPANzby"
      },
      "source": [
        "def train():\n",
        "\n",
        "    model.train()\n",
        "    total_loss, epoch_acc = 0, 0\n",
        "\n",
        "    for step, batch in enumerate(train_dataloader):\n",
        "\n",
        "        if step % 50 == 0 and not step == 0:\n",
        "            print('Batch {:>5,} of {:>5,}.'.format(step, len(train_dataloader)))\n",
        "\n",
        "        batch = [r.to(device) for r in batch]\n",
        "        sent_id, mask, labels = batch\n",
        "\n",
        "        model.zero_grad()\n",
        "\n",
        "        preds = model(sent_id, mask)\n",
        "        loss = criterion(preds, labels)\n",
        "\n",
        "        preds = torch.argmax(preds, axis=1)\n",
        "        correct = (preds == labels).float()\n",
        "        acc = correct.sum() / len(correct)\n",
        "        epoch_acc += acc.item()\n",
        "        total_loss = total_loss + loss.item()\n",
        "\n",
        "        loss.backward()\n",
        "\n",
        "        torch.nn.utils.clip_grad_norm_(model.parameters(), 1.0)\n",
        "\n",
        "        optimizer.step()\n",
        "\n",
        "    avg_loss = total_loss / len(train_dataloader)\n",
        "\n",
        "    return avg_loss, epoch_acc/len(train_dataloader)\n"
      ],
      "execution_count": null,
      "outputs": []
    },
    {
      "cell_type": "code",
      "metadata": {
        "id": "6EYA2qV2N2-M"
      },
      "source": [
        "def evaluate():\n",
        "\n",
        "    print(\"\\nEvaluating...\")\n",
        "\n",
        "    model.eval()\n",
        "    total_loss, epoch_acc = 0, 0\n",
        "\n",
        "    for step,batch in enumerate(val_dataloader):\n",
        "    \n",
        "        if step % 50 == 0 and not step == 0:\n",
        "            print('  Batch {:>5,}  of  {:>5,}.'.format(step, len(val_dataloader)))\n",
        "\n",
        "        batch = [t.to(device) for t in batch]\n",
        "        sent_id, mask, labels = batch\n",
        "\n",
        "        with torch.no_grad():\n",
        "          \n",
        "            preds = model(sent_id, mask)\n",
        "            loss = criterion(preds, labels)\n",
        "\n",
        "            preds = torch.argmax(preds, axis = 1)\n",
        "            correct = (preds == labels).float() \n",
        "            acc = correct.sum() / len(correct)\n",
        "            epoch_acc += acc.item()\n",
        "            total_loss = total_loss + loss.item()\n",
        "\n",
        "    avg_loss = total_loss / len(val_dataloader) \n",
        "\n",
        "    return avg_loss, epoch_acc/len(val_dataloader)"
      ],
      "execution_count": null,
      "outputs": []
    },
    {
      "cell_type": "code",
      "metadata": {
        "id": "0geqqDsrN5fT",
        "colab": {
          "base_uri": "https://localhost:8080/"
        },
        "outputId": "cb2fae91-2ca0-4098-a506-2ecc81b74342"
      },
      "source": [
        "epochs = 25\n",
        "best_valid_loss = float('inf')\n",
        "criterion  = nn.NLLLoss()\n",
        "\n",
        "train_losses = []\n",
        "valid_losses = []\n",
        "\n",
        "for epoch in range(epochs):\n",
        "\n",
        "    print('\\n Epoch {:} / {:}'.format(epoch + 1, epochs))\n",
        "\n",
        "    train_loss, train_acc = train()\n",
        "\n",
        "    valid_loss, valid_acc = evaluate()\n",
        "\n",
        "    if valid_loss < best_valid_loss:\n",
        "        best_valid_loss = valid_loss\n",
        "        torch.save(model.state_dict(), '/content/drive/MyDrive/weights_dcipher/bert_frozen_weights.pt')\n",
        "\n",
        "    train_losses.append(train_loss)\n",
        "    valid_losses.append(valid_loss)\n",
        "\n",
        "    print(f'\\tTrain Loss: {train_loss:.3f} | Train Acc: {train_acc*100:.2f}%')\n",
        "    print(f'\\t Val. Loss: {valid_loss:.3f} |  Val. Acc: {valid_acc*100:.2f}%')"
      ],
      "execution_count": null,
      "outputs": [
        {
          "output_type": "stream",
          "text": [
            "\n",
            " Epoch 1 / 25\n",
            "Batch    50 of   400.\n",
            "Batch   100 of   400.\n",
            "Batch   150 of   400.\n",
            "Batch   200 of   400.\n",
            "Batch   250 of   400.\n",
            "Batch   300 of   400.\n",
            "Batch   350 of   400.\n",
            "\n",
            "Evaluating...\n",
            "  Batch    50  of    100.\n",
            "\tTrain Loss: 0.638 | Train Acc: 64.94%\n",
            "\t Val. Loss: 0.527 |  Val. Acc: 70.41%\n",
            "\n",
            " Epoch 2 / 25\n",
            "Batch    50 of   400.\n",
            "Batch   100 of   400.\n",
            "Batch   150 of   400.\n",
            "Batch   200 of   400.\n",
            "Batch   250 of   400.\n",
            "Batch   300 of   400.\n",
            "Batch   350 of   400.\n",
            "\n",
            "Evaluating...\n",
            "  Batch    50  of    100.\n",
            "\tTrain Loss: 0.589 | Train Acc: 68.00%\n",
            "\t Val. Loss: 0.613 |  Val. Acc: 64.81%\n",
            "\n",
            " Epoch 3 / 25\n",
            "Batch    50 of   400.\n",
            "Batch   100 of   400.\n",
            "Batch   150 of   400.\n",
            "Batch   200 of   400.\n",
            "Batch   250 of   400.\n",
            "Batch   300 of   400.\n",
            "Batch   350 of   400.\n",
            "\n",
            "Evaluating...\n",
            "  Batch    50  of    100.\n",
            "\tTrain Loss: 0.570 | Train Acc: 68.91%\n",
            "\t Val. Loss: 0.549 |  Val. Acc: 70.66%\n",
            "\n",
            " Epoch 4 / 25\n",
            "Batch    50 of   400.\n",
            "Batch   100 of   400.\n",
            "Batch   150 of   400.\n",
            "Batch   200 of   400.\n",
            "Batch   250 of   400.\n",
            "Batch   300 of   400.\n",
            "Batch   350 of   400.\n",
            "\n",
            "Evaluating...\n",
            "  Batch    50  of    100.\n",
            "\tTrain Loss: 0.561 | Train Acc: 68.87%\n",
            "\t Val. Loss: 0.839 |  Val. Acc: 64.06%\n",
            "\n",
            " Epoch 5 / 25\n",
            "Batch    50 of   400.\n",
            "Batch   100 of   400.\n",
            "Batch   150 of   400.\n",
            "Batch   200 of   400.\n",
            "Batch   250 of   400.\n",
            "Batch   300 of   400.\n",
            "Batch   350 of   400.\n",
            "\n",
            "Evaluating...\n",
            "  Batch    50  of    100.\n",
            "\tTrain Loss: 0.562 | Train Acc: 69.29%\n",
            "\t Val. Loss: 0.547 |  Val. Acc: 68.56%\n",
            "\n",
            " Epoch 6 / 25\n",
            "Batch    50 of   400.\n",
            "Batch   100 of   400.\n",
            "Batch   150 of   400.\n",
            "Batch   200 of   400.\n",
            "Batch   250 of   400.\n",
            "Batch   300 of   400.\n",
            "Batch   350 of   400.\n",
            "\n",
            "Evaluating...\n",
            "  Batch    50  of    100.\n",
            "\tTrain Loss: 0.553 | Train Acc: 69.76%\n",
            "\t Val. Loss: 0.521 |  Val. Acc: 72.33%\n",
            "\n",
            " Epoch 7 / 25\n",
            "Batch    50 of   400.\n",
            "Batch   100 of   400.\n",
            "Batch   150 of   400.\n",
            "Batch   200 of   400.\n",
            "Batch   250 of   400.\n",
            "Batch   300 of   400.\n",
            "Batch   350 of   400.\n",
            "\n",
            "Evaluating...\n",
            "  Batch    50  of    100.\n",
            "\tTrain Loss: 0.556 | Train Acc: 68.85%\n",
            "\t Val. Loss: 0.513 |  Val. Acc: 72.73%\n",
            "\n",
            " Epoch 8 / 25\n",
            "Batch    50 of   400.\n",
            "Batch   100 of   400.\n",
            "Batch   150 of   400.\n",
            "Batch   200 of   400.\n",
            "Batch   250 of   400.\n",
            "Batch   300 of   400.\n",
            "Batch   350 of   400.\n",
            "\n",
            "Evaluating...\n",
            "  Batch    50  of    100.\n",
            "\tTrain Loss: 0.537 | Train Acc: 70.61%\n",
            "\t Val. Loss: 0.517 |  Val. Acc: 73.58%\n",
            "\n",
            " Epoch 9 / 25\n",
            "Batch    50 of   400.\n",
            "Batch   100 of   400.\n",
            "Batch   150 of   400.\n",
            "Batch   200 of   400.\n",
            "Batch   250 of   400.\n",
            "Batch   300 of   400.\n",
            "Batch   350 of   400.\n",
            "\n",
            "Evaluating...\n",
            "  Batch    50  of    100.\n",
            "\tTrain Loss: 0.533 | Train Acc: 71.43%\n",
            "\t Val. Loss: 0.509 |  Val. Acc: 71.07%\n",
            "\n",
            " Epoch 10 / 25\n",
            "Batch    50 of   400.\n",
            "Batch   100 of   400.\n",
            "Batch   150 of   400.\n",
            "Batch   200 of   400.\n",
            "Batch   250 of   400.\n",
            "Batch   300 of   400.\n",
            "Batch   350 of   400.\n",
            "\n",
            "Evaluating...\n",
            "  Batch    50  of    100.\n",
            "\tTrain Loss: 0.534 | Train Acc: 71.35%\n",
            "\t Val. Loss: 0.534 |  Val. Acc: 71.39%\n",
            "\n",
            " Epoch 11 / 25\n",
            "Batch    50 of   400.\n",
            "Batch   100 of   400.\n",
            "Batch   150 of   400.\n",
            "Batch   200 of   400.\n",
            "Batch   250 of   400.\n",
            "Batch   300 of   400.\n",
            "Batch   350 of   400.\n",
            "\n",
            "Evaluating...\n",
            "  Batch    50  of    100.\n",
            "\tTrain Loss: 0.536 | Train Acc: 70.51%\n",
            "\t Val. Loss: 0.508 |  Val. Acc: 72.74%\n",
            "\n",
            " Epoch 12 / 25\n",
            "Batch    50 of   400.\n",
            "Batch   100 of   400.\n",
            "Batch   150 of   400.\n",
            "Batch   200 of   400.\n",
            "Batch   250 of   400.\n",
            "Batch   300 of   400.\n",
            "Batch   350 of   400.\n",
            "\n",
            "Evaluating...\n",
            "  Batch    50  of    100.\n",
            "\tTrain Loss: 0.536 | Train Acc: 70.86%\n",
            "\t Val. Loss: 0.514 |  Val. Acc: 72.16%\n",
            "\n",
            " Epoch 13 / 25\n",
            "Batch    50 of   400.\n",
            "Batch   100 of   400.\n",
            "Batch   150 of   400.\n",
            "Batch   200 of   400.\n",
            "Batch   250 of   400.\n",
            "Batch   300 of   400.\n",
            "Batch   350 of   400.\n",
            "\n",
            "Evaluating...\n",
            "  Batch    50  of    100.\n",
            "\tTrain Loss: 0.532 | Train Acc: 71.32%\n",
            "\t Val. Loss: 0.509 |  Val. Acc: 71.66%\n",
            "\n",
            " Epoch 14 / 25\n",
            "Batch    50 of   400.\n",
            "Batch   100 of   400.\n",
            "Batch   150 of   400.\n",
            "Batch   200 of   400.\n",
            "Batch   250 of   400.\n",
            "Batch   300 of   400.\n",
            "Batch   350 of   400.\n",
            "\n",
            "Evaluating...\n",
            "  Batch    50  of    100.\n"
          ],
          "name": "stdout"
        }
      ]
    },
    {
      "cell_type": "code",
      "metadata": {
        "id": "p07XEVfrU5fL",
        "colab": {
          "base_uri": "https://localhost:8080/"
        },
        "outputId": "bb4235de-c2e8-4df7-8fd4-209827dfebd8"
      },
      "source": [
        "with torch.no_grad():\n",
        "    torch.cuda.empty_cache()\n",
        "path = '/content/drive/MyDrive/weights_dcipher/bert_frozen_weights.pt'\n",
        "model.load_state_dict(torch.load(path))"
      ],
      "execution_count": 13,
      "outputs": [
        {
          "output_type": "execute_result",
          "data": {
            "text/plain": [
              "<All keys matched successfully>"
            ]
          },
          "metadata": {
            "tags": []
          },
          "execution_count": 13
        }
      ]
    },
    {
      "cell_type": "code",
      "metadata": {
        "id": "sCePRxQrjK8P",
        "colab": {
          "base_uri": "https://localhost:8080/",
          "height": 295
        },
        "outputId": "2b18dba7-ac24-4f64-b48c-80e119c4bcb4"
      },
      "source": [
        "preds = []\n",
        "probas_0 = []\n",
        "probas_1 = []\n",
        "\n",
        "for i, batch in enumerate(test_dataloader):\n",
        "\n",
        "    batch = [t.to(device) for t in batch]\n",
        "    sent_id, mask, labels = batch\n",
        "\n",
        "    with torch.no_grad():\n",
        "        pred = model(sent_id, mask)\n",
        "        pred = pred.squeeze().float()\n",
        "        probas_0.extend(pred[: , 0:1].squeeze().float().detach().cpu().numpy())\n",
        "        probas_1.extend(pred[: , 1:2].squeeze().float().detach().cpu().numpy())\n",
        "        pred = torch.argmax(pred, axis=1)\n",
        "        pred = pred.squeeze().float().detach().cpu().numpy()\n",
        "        preds.extend(pred)\n",
        "\n",
        "preds = np.asarray(preds)\n",
        "print(classification_report(test_y, preds))\n",
        "pd.crosstab(test_y, preds)"
      ],
      "execution_count": 14,
      "outputs": [
        {
          "output_type": "stream",
          "text": [
            "              precision    recall  f1-score   support\n",
            "\n",
            "           0       0.72      0.71      0.72       740\n",
            "           1       0.72      0.73      0.73       759\n",
            "\n",
            "    accuracy                           0.72      1499\n",
            "   macro avg       0.72      0.72      0.72      1499\n",
            "weighted avg       0.72      0.72      0.72      1499\n",
            "\n"
          ],
          "name": "stdout"
        },
        {
          "output_type": "execute_result",
          "data": {
            "text/html": [
              "<div>\n",
              "<style scoped>\n",
              "    .dataframe tbody tr th:only-of-type {\n",
              "        vertical-align: middle;\n",
              "    }\n",
              "\n",
              "    .dataframe tbody tr th {\n",
              "        vertical-align: top;\n",
              "    }\n",
              "\n",
              "    .dataframe thead th {\n",
              "        text-align: right;\n",
              "    }\n",
              "</style>\n",
              "<table border=\"1\" class=\"dataframe\">\n",
              "  <thead>\n",
              "    <tr style=\"text-align: right;\">\n",
              "      <th>col_0</th>\n",
              "      <th>0.0</th>\n",
              "      <th>1.0</th>\n",
              "    </tr>\n",
              "    <tr>\n",
              "      <th>row_0</th>\n",
              "      <th></th>\n",
              "      <th></th>\n",
              "    </tr>\n",
              "  </thead>\n",
              "  <tbody>\n",
              "    <tr>\n",
              "      <th>0</th>\n",
              "      <td>528</td>\n",
              "      <td>212</td>\n",
              "    </tr>\n",
              "    <tr>\n",
              "      <th>1</th>\n",
              "      <td>202</td>\n",
              "      <td>557</td>\n",
              "    </tr>\n",
              "  </tbody>\n",
              "</table>\n",
              "</div>"
            ],
            "text/plain": [
              "col_0  0.0  1.0\n",
              "row_0          \n",
              "0      528  212\n",
              "1      202  557"
            ]
          },
          "metadata": {
            "tags": []
          },
          "execution_count": 14
        }
      ]
    },
    {
      "cell_type": "code",
      "metadata": {
        "id": "V2_rAKBOWTn6",
        "colab": {
          "base_uri": "https://localhost:8080/",
          "height": 330
        },
        "outputId": "5f13512e-b618-4e11-d75a-97c4f59f9316"
      },
      "source": [
        "auc_1 = roc_auc_score(test_y, probas_1)\n",
        "\n",
        "print('Class 1: ROC AUC = %.3f' % (auc_1))\n",
        "\n",
        "f1 = f1_score(test_y, preds)\n",
        "print('F1 Score = %.3f' % (f1))\n",
        "\n",
        "acc = accuracy_score(test_y, preds)\n",
        "print('Accuracy = %.3f' % (acc))\n",
        "\n",
        "ns_1 = [1 for _ in range(len(test_y))]\n",
        "\n",
        "fpr_0, tpr_0, _ = roc_curve(test_y, probas_0)\n",
        "fpr_1, tpr_1, _ = roc_curve(test_y, probas_1)\n",
        "fpr_ns_1, tpr_ns_1, _ =  roc_curve(test_y, ns_1)\n",
        "\n",
        "pyplot.plot(fpr_ns_1, tpr_ns_1, linestyle='--', label='Only 1')\n",
        "pyplot.plot(fpr_1, tpr_1, marker='.', label='Model')\n",
        "pyplot.xlabel('False Positive Rate')\n",
        "pyplot.ylabel('True Positive Rate')\n",
        "pyplot.legend()\n",
        "pyplot.show()"
      ],
      "execution_count": 15,
      "outputs": [
        {
          "output_type": "stream",
          "text": [
            "Class 1: ROC AUC = 0.821\n",
            "F1 Score = 0.729\n",
            "Accuracy = 0.724\n"
          ],
          "name": "stdout"
        },
        {
          "output_type": "display_data",
          "data": {
            "image/png": "[encoded data removed]",
            "text/plain": [
              "<Figure size 432x288 with 1 Axes>"
            ]
          },
          "metadata": {
            "tags": [],
            "needs_background": "light"
          }
        }
      ]
    }
  ]
}