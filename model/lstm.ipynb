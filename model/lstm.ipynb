{
  "nbformat": 4,
  "nbformat_minor": 0,
  "metadata": {
    "accelerator": "GPU",
    "colab": {
      "name": "lstm.ipynb",
      "provenance": [],
      "collapsed_sections": []
    },
    "kernelspec": {
      "display_name": "Python 3",
      "name": "python3"
    }
  },
  "cells": [
    {
      "cell_type": "code",
      "metadata": {
        "colab": {
          "base_uri": "https://localhost:8080/"
        },
        "id": "vgF6VR8fVUS6",
        "outputId": "8a08c4f9-f3ac-47c9-ef1b-43e41c069360"
      },
      "source": [
        "!git clone https://github.com/kairosfuture/dcipher-nlp-challenge.git\n",
        "!pip install pycodestyle\n",
        "!pip install --index-url https://test.pypi.org/simple/ nbpep8"
      ],
      "execution_count": 46,
      "outputs": [
        {
          "output_type": "stream",
          "text": [
            "fatal: destination path 'dcipher-nlp-challenge' already exists and is not an empty directory.\n",
            "Requirement already satisfied: pycodestyle in /usr/local/lib/python3.6/dist-packages (2.6.0)\n",
            "Looking in indexes: https://test.pypi.org/simple/\n",
            "Requirement already satisfied: nbpep8 in /usr/local/lib/python3.6/dist-packages (0.0.15)\n"
          ],
          "name": "stdout"
        }
      ]
    },
    {
      "cell_type": "code",
      "metadata": {
        "id": "wfGgMRdadUR2"
      },
      "source": [
        "import json\n",
        "import pandas as pd\n",
        "import torch\n",
        "import numpy as np\n",
        "import torch.nn as nn\n",
        "import torch.optim as optim\n",
        "import spacy\n",
        "from torchtext.data import Field, TabularDataset, BucketIterator\n",
        "from sklearn.model_selection import train_test_split\n",
        "import os\n",
        "from sklearn.metrics import f1_score\n",
        "from sklearn.metrics import accuracy_score\n",
        "from matplotlib import pyplot\n",
        "from sklearn import metrics\n",
        "from sklearn.metrics import roc_curve\n",
        "from sklearn.metrics import roc_auc_score\n",
        "from sklearn.metrics import classification_report\n",
        "\n",
        "os.environ['CUDA_LAUNCH_BLOCKING'] = \"1\""
      ],
      "execution_count": 64,
      "outputs": []
    },
    {
      "cell_type": "code",
      "metadata": {
        "colab": {
          "base_uri": "https://localhost:8080/"
        },
        "id": "7aMpQtN4YFVi",
        "outputId": "53ae3c7b-8886-4ec8-bf77-9fa92ec92964"
      },
      "source": [
        "from google.colab import drive\n",
        "drive.mount('/content/drive')"
      ],
      "execution_count": 48,
      "outputs": [
        {
          "output_type": "stream",
          "text": [
            "Drive already mounted at /content/drive; to attempt to forcibly remount, call drive.mount(\"/content/drive\", force_remount=True).\n"
          ],
          "name": "stdout"
        }
      ]
    },
    {
      "cell_type": "code",
      "metadata": {
        "id": "HHiUMH9VL4Ui"
      },
      "source": [
        "def normalise_text(text):\n",
        "\n",
        "    text = text.str.lower()\n",
        "    text = text.str.replace(r\"\\#\", \"\")\n",
        "    text = text.str.replace(r\"http\\S+\", \"URL\")\n",
        "    text = text.str.replace(r\"@\", \"\")\n",
        "    text = text.str.replace(r\"[^A-Za-z0-9()!?\\'\\`\\\"]\", \" \")\n",
        "    text = text.str.replace(\"\\s{2,}\", \" \")\n",
        "\n",
        "    return text"
      ],
      "execution_count": 49,
      "outputs": []
    },
    {
      "cell_type": "code",
      "metadata": {
        "id": "Si9mJ5CeWHFc"
      },
      "source": [
        "file = '/content/dcipher-nlp-challenge/data/wos2class.json'\n",
        "with open(file) as df:\n",
        "    dict_train = json.load(df)\n",
        "df = pd.DataFrame.from_dict(dict_train)\n",
        "\n",
        "df.isna().sum()\n",
        "df.drop(df[df['Abstract'].str.len() < 10].index, inplace=True)\n",
        "df['title_abstract'] = df['Title'] + \". \" + df['Abstract']\n",
        "df['Label'] = (df['Label'] == 'Material Science').astype('int')\n",
        "df[\"title_abstract\"] = normalise_text(df[\"title_abstract\"])"
      ],
      "execution_count": 50,
      "outputs": []
    },
    {
      "cell_type": "code",
      "metadata": {
        "id": "vEhR6OumoDUA"
      },
      "source": [
        "train, test, y_train, y_test = train_test_split(df[\"title_abstract\"],\n",
        "                                                df[\"Label\"],\n",
        "                                                test_size=0.2,\n",
        "                                                random_state=42,\n",
        "                                                stratify=df[\"Label\"])\n",
        "\n",
        "train, val, y_train, y_val = train_test_split(train,\n",
        "                                              y_train,\n",
        "                                              test_size=0.2,\n",
        "                                              random_state=42,\n",
        "                                              stratify=y_train)\n",
        "\n",
        "df_train = pd.concat([train, y_train], ignore_index=True, sort=False, axis=1)\n",
        "df_val = pd.concat([val, y_val], ignore_index=True, sort=False, axis=1)\n",
        "df_test = pd.concat([test, y_test], ignore_index=True, sort=False, axis=1)\n",
        "\n",
        "df_train.to_csv('train.csv', index=False)\n",
        "df_val.to_csv('valid.csv', index=False)\n",
        "df_test.to_csv('test.csv', index=False)\n",
        "df_train.to_json('wos2class.train.json')\n",
        "df_val.to_json('wos2class.valid.json')\n",
        "df_test.to_json('wos2class.test.json')"
      ],
      "execution_count": 51,
      "outputs": []
    },
    {
      "cell_type": "code",
      "metadata": {
        "colab": {
          "base_uri": "https://localhost:8080/"
        },
        "id": "I9RTAn_1sc45",
        "outputId": "c8b10461-eb31-4ccc-ad3c-8659abf4030f"
      },
      "source": [
        "device = torch.device(\"cuda:0\" if torch.cuda.is_available() else \"cpu\")\n",
        "torch.backends.cudnn.deterministic = True  \n",
        "seed = 17\n",
        "torch.manual_seed(seed)"
      ],
      "execution_count": 52,
      "outputs": [
        {
          "output_type": "execute_result",
          "data": {
            "text/plain": [
              "<torch._C.Generator at 0x7f20a3a19c18>"
            ]
          },
          "metadata": {
            "tags": []
          },
          "execution_count": 52
        }
      ]
    },
    {
      "cell_type": "code",
      "metadata": {
        "id": "04pK60HHo4YQ"
      },
      "source": [
        "label_field = Field(sequential=False,\n",
        "                    use_vocab=False,\n",
        "                    dtype=torch.float,\n",
        "                    batch_first=True)\n",
        "\n",
        "text_field = Field(sequential=True,\n",
        "                   tokenize='spacy',\n",
        "                   batch_first=True,\n",
        "                   include_lengths=True,\n",
        "                   lower=True)\n",
        "\n",
        "fields = {'1': ('label', label_field), '0': ('title_abstract', text_field)}\n",
        "\n",
        "train, valid, test = TabularDataset.splits(path='./',\n",
        "                                           train='train.csv',\n",
        "                                           validation='valid.csv',\n",
        "                                           test='test.csv',\n",
        "                                           format='CSV', fields=fields)\n",
        "\n",
        "text_field.build_vocab(train, min_freq=8, vectors=\"glove.6B.100d\")"
      ],
      "execution_count": 53,
      "outputs": []
    },
    {
      "cell_type": "code",
      "metadata": {
        "id": "pdeXCYvxaczq"
      },
      "source": [
        "train_iter = BucketIterator(train,\n",
        "                            batch_size=32,\n",
        "                            sort_key=lambda x: len(x.title_abstract),\n",
        "                            sort_within_batch=True,\n",
        "                            device=device)\n",
        "\n",
        "valid_iter = BucketIterator(valid,\n",
        "                            batch_size=32,\n",
        "                            sort_key=lambda x: len(x.title_abstract),\n",
        "                            sort_within_batch=True,\n",
        "                            device=device)\n",
        "\n",
        "test_iter = BucketIterator(test,\n",
        "                           batch_size=32,\n",
        "                           sort_key=lambda x: len(x.title_abstract),\n",
        "                           sort_within_batch=True,\n",
        "                           device=device)"
      ],
      "execution_count": 54,
      "outputs": []
    },
    {
      "cell_type": "code",
      "metadata": {
        "id": "ulETuEc6EobW"
      },
      "source": [
        "class lstm(torch.nn.Module):\n",
        "    def __init__(self, vocab_size, embedding_dim, hidden_dim, output_dim,\n",
        "                 num_layers, bidirection, dropout):\n",
        "        super().__init__()\n",
        "        self.hidden_dim = hidden_dim\n",
        "        self.dropout = nn.Dropout(dropout)\n",
        "\n",
        "        self.embeddings = nn.Embedding(vocab_size,\n",
        "                                       embedding_dim,\n",
        "                                       padding_idx=0)\n",
        "\n",
        "        self.lstm = nn.LSTM(embedding_dim,\n",
        "                            hidden_dim,\n",
        "                            batch_first=True,\n",
        "                            num_layers=num_layers,\n",
        "                            bidirectional=bidirection)\n",
        "\n",
        "        self.linear = nn.Linear(hidden_dim * 2, output_dim)\n",
        "        self.softmax = nn.LogSoftmax(dim=1)\n",
        "\n",
        "    def forward(self, input, length):\n",
        "        x = self.embeddings(input)\n",
        "        x = self.dropout(x)\n",
        "\n",
        "        x_pack = nn.utils.rnn.pack_padded_sequence(x,\n",
        "                                      length.cpu(),\n",
        "                                      batch_first=True,\n",
        "                                      enforce_sorted=False)\n",
        "\n",
        "        out_pack, (ht, ct) = self.lstm(x_pack)\n",
        "        ht = torch.cat((ht[-2, :, :], ht[-1, :, :]), dim=1)\n",
        "        dense_outputs = self.linear(ht)\n",
        "        outputs = self.softmax(dense_outputs)\n",
        "        return outputs"
      ],
      "execution_count": 56,
      "outputs": []
    },
    {
      "cell_type": "code",
      "metadata": {
        "id": "TKenvDfVd8i8"
      },
      "source": [
        "size_of_vocab = len(text_field.vocab)\n",
        "embedding_dim = 100\n",
        "num_hidden_nodes = 32\n",
        "num_output_nodes = 2\n",
        "num_layers = 2\n",
        "bidirection = True\n",
        "dropout = 0.2\n",
        "\n",
        "model = lstm(size_of_vocab,\n",
        "             embedding_dim,\n",
        "             num_hidden_nodes,\n",
        "             num_output_nodes,\n",
        "             num_layers,\n",
        "             bidirection,\n",
        "             dropout)"
      ],
      "execution_count": 57,
      "outputs": []
    },
    {
      "cell_type": "code",
      "metadata": {
        "id": "hrDtsTqcnW8X"
      },
      "source": [
        "pretrained_embeddings = text_field.vocab.vectors\n",
        "model.embeddings.weight.data.copy_(pretrained_embeddings)\n",
        "\n",
        "optimizer = optim.Adam(model.parameters(), lr=1e-4)\n",
        "criterion  = nn.NLLLoss()\n",
        "\n",
        "model = model.to(device)\n",
        "criterion = criterion.to(device)"
      ],
      "execution_count": 42,
      "outputs": []
    },
    {
      "cell_type": "code",
      "metadata": {
        "id": "f4d8hLHEncr7"
      },
      "source": [
        "def train(model, iterator, optimizer, criterion):\n",
        "\n",
        "    epoch_loss = 0\n",
        "    epoch_acc = 0\n",
        "    model.train()\n",
        "\n",
        "    for batch in iterator:\n",
        "\n",
        "        optimizer.zero_grad()\n",
        "\n",
        "        title_abstract, title_abstract_lengths = batch.title_abstract\n",
        "        labels = batch.label\n",
        "        preds = model(title_abstract, title_abstract_lengths)\n",
        "        loss = criterion(preds, labels.long())\n",
        "\n",
        "        preds = torch.argmax(preds, axis=1)\n",
        "        correct = (preds == labels).float()\n",
        "        acc = correct.sum() / len(correct)\n",
        "\n",
        "        loss.backward()\n",
        "\n",
        "        optimizer.step()\n",
        "\n",
        "        epoch_loss += loss.item()\n",
        "        epoch_acc += acc.item()\n",
        "\n",
        "    return epoch_loss / len(iterator), epoch_acc / len(iterator)"
      ],
      "execution_count": null,
      "outputs": []
    },
    {
      "cell_type": "code",
      "metadata": {
        "id": "DkQsQglknhGj"
      },
      "source": [
        "def evaluate(model, iterator, criterion):\n",
        "\n",
        "    epoch_loss = 0\n",
        "    epoch_acc = 0\n",
        "    model.eval()\n",
        "\n",
        "    with torch.no_grad():\n",
        "\n",
        "        for batch in iterator:\n",
        "\n",
        "            title_abstract, title_abstract_lengths = batch.title_abstract\n",
        "            labels = batch.label\n",
        "            preds = model(title_abstract, title_abstract_lengths)\n",
        "            loss = criterion(preds, labels.long())\n",
        "\n",
        "            preds = torch.argmax(preds, axis=1)\n",
        "            correct = (preds == labels).float()\n",
        "            acc = correct.sum() / len(correct)\n",
        "\n",
        "            epoch_loss += loss.item()\n",
        "            epoch_acc += acc.item()\n",
        "\n",
        "    return epoch_loss / len(iterator), epoch_acc / len(iterator)"
      ],
      "execution_count": null,
      "outputs": []
    },
    {
      "cell_type": "code",
      "metadata": {
        "colab": {
          "base_uri": "https://localhost:8080/"
        },
        "id": "fChM0UMonjcn",
        "outputId": "dfe54773-99d4-4bce-f859-5340b4a96140"
      },
      "source": [
        "from torch.nn.utils.rnn import pack_padded_sequence, pad_packed_sequence\n",
        "\n",
        "N_EPOCHS = 25\n",
        "best_valid_loss = float('inf')\n",
        "\n",
        "for epoch in range(N_EPOCHS):\n",
        "\n",
        "    train_loss, train_acc = train(model, train_iter, optimizer, criterion)\n",
        "\n",
        "    valid_loss, valid_acc = evaluate(model, valid_iter, criterion)\n",
        "\n",
        "    if valid_loss < best_valid_loss:\n",
        "        best_valid_loss = valid_loss\n",
        "        torch.save(model.state_dict(), '/content/drive/MyDrive/weights_dcipher/lstm_weights.pt')\n",
        "\n",
        "    print(f'\\tTrain Loss: {train_loss:.3f} | Train Acc: {train_acc*100:.2f}%')\n",
        "    print(f'\\t Val. Loss: {valid_loss:.3f} |  Val. Acc: {valid_acc*100:.2f}%')"
      ],
      "execution_count": null,
      "outputs": [
        {
          "output_type": "stream",
          "text": [
            "\r100%|█████████▉| 398428/400000 [00:30<00:00, 25583.45it/s]"
          ],
          "name": "stderr"
        },
        {
          "output_type": "stream",
          "text": [
            "\tTrain Loss: 0.687 | Train Acc: 54.22%\n",
            "\t Val. Loss: 0.673 |  Val. Acc: 63.04%\n",
            "\tTrain Loss: 0.654 | Train Acc: 61.79%\n",
            "\t Val. Loss: 0.623 |  Val. Acc: 62.55%\n",
            "\tTrain Loss: 0.622 | Train Acc: 62.90%\n",
            "\t Val. Loss: 0.604 |  Val. Acc: 63.70%\n",
            "\tTrain Loss: 0.596 | Train Acc: 65.03%\n",
            "\t Val. Loss: 0.576 |  Val. Acc: 66.81%\n",
            "\tTrain Loss: 0.570 | Train Acc: 68.04%\n",
            "\t Val. Loss: 0.559 |  Val. Acc: 68.27%\n",
            "\tTrain Loss: 0.555 | Train Acc: 69.17%\n",
            "\t Val. Loss: 0.552 |  Val. Acc: 68.51%\n",
            "\tTrain Loss: 0.548 | Train Acc: 69.88%\n",
            "\t Val. Loss: 0.550 |  Val. Acc: 68.76%\n",
            "\tTrain Loss: 0.538 | Train Acc: 70.96%\n",
            "\t Val. Loss: 0.548 |  Val. Acc: 68.18%\n",
            "\tTrain Loss: 0.528 | Train Acc: 71.56%\n",
            "\t Val. Loss: 0.551 |  Val. Acc: 69.07%\n",
            "\tTrain Loss: 0.525 | Train Acc: 72.51%\n",
            "\t Val. Loss: 0.546 |  Val. Acc: 69.08%\n",
            "\tTrain Loss: 0.517 | Train Acc: 72.82%\n",
            "\t Val. Loss: 0.549 |  Val. Acc: 69.65%\n",
            "\tTrain Loss: 0.510 | Train Acc: 73.34%\n",
            "\t Val. Loss: 0.544 |  Val. Acc: 68.58%\n",
            "\tTrain Loss: 0.499 | Train Acc: 74.43%\n",
            "\t Val. Loss: 0.545 |  Val. Acc: 69.47%\n",
            "\tTrain Loss: 0.491 | Train Acc: 74.69%\n",
            "\t Val. Loss: 0.548 |  Val. Acc: 68.99%\n",
            "\tTrain Loss: 0.479 | Train Acc: 75.56%\n",
            "\t Val. Loss: 0.547 |  Val. Acc: 68.98%\n",
            "\tTrain Loss: 0.475 | Train Acc: 75.88%\n",
            "\t Val. Loss: 0.557 |  Val. Acc: 69.56%\n",
            "\tTrain Loss: 0.468 | Train Acc: 75.98%\n",
            "\t Val. Loss: 0.547 |  Val. Acc: 69.31%\n",
            "\tTrain Loss: 0.463 | Train Acc: 77.02%\n",
            "\t Val. Loss: 0.551 |  Val. Acc: 68.90%\n",
            "\tTrain Loss: 0.449 | Train Acc: 77.83%\n",
            "\t Val. Loss: 0.551 |  Val. Acc: 68.65%\n",
            "\tTrain Loss: 0.443 | Train Acc: 78.11%\n",
            "\t Val. Loss: 0.558 |  Val. Acc: 69.57%\n",
            "\tTrain Loss: 0.435 | Train Acc: 78.83%\n",
            "\t Val. Loss: 0.568 |  Val. Acc: 68.82%\n",
            "\tTrain Loss: 0.425 | Train Acc: 79.46%\n",
            "\t Val. Loss: 0.568 |  Val. Acc: 69.40%\n",
            "\tTrain Loss: 0.416 | Train Acc: 79.69%\n",
            "\t Val. Loss: 0.579 |  Val. Acc: 69.41%\n",
            "\tTrain Loss: 0.402 | Train Acc: 80.63%\n",
            "\t Val. Loss: 0.578 |  Val. Acc: 68.09%\n",
            "\tTrain Loss: 0.401 | Train Acc: 80.88%\n",
            "\t Val. Loss: 0.589 |  Val. Acc: 68.51%\n"
          ],
          "name": "stdout"
        }
      ]
    },
    {
      "cell_type": "code",
      "metadata": {
        "colab": {
          "base_uri": "https://localhost:8080/"
        },
        "id": "Km9i19zZbEWn",
        "outputId": "dace19d8-f586-476a-d8d0-40184457df23"
      },
      "source": [
        "with torch.no_grad():\n",
        "    torch.cuda.empty_cache()\n",
        "path = '/content/drive/MyDrive/weights_dcipher/lstm_weights.pt'\n",
        "model.load_state_dict(torch.load(path))"
      ],
      "execution_count": 58,
      "outputs": [
        {
          "output_type": "execute_result",
          "data": {
            "text/plain": [
              "<All keys matched successfully>"
            ]
          },
          "metadata": {
            "tags": []
          },
          "execution_count": 58
        }
      ]
    },
    {
      "cell_type": "code",
      "metadata": {
        "colab": {
          "base_uri": "https://localhost:8080/",
          "height": 295
        },
        "id": "X4WUgVWDZ4eR",
        "outputId": "1c89ddd8-c036-4b4d-cbfd-fde3dbcd4c70"
      },
      "source": [
        "model = model.to(device)\n",
        "\n",
        "preds = []\n",
        "probas_0 = []\n",
        "probas_1 = []\n",
        "\n",
        "for i, batch in enumerate(test_iter):\n",
        "\n",
        "    title_abstract, title_abstract_lengths = batch.title_abstract\n",
        "\n",
        "    with torch.no_grad():\n",
        "        pred = model(title_abstract, title_abstract_lengths).float()\n",
        "        probas_0.extend(pred[: , 0:1].squeeze().detach().cpu().numpy())\n",
        "        probas_1.extend(pred[: , 1:2].squeeze().detach().cpu().numpy())\n",
        "        pred = torch.argmax(pred, axis=1)\n",
        "        pred = pred.squeeze().detach().cpu().numpy()\n",
        "        preds.extend(pred)\n",
        "\n",
        "preds = np.asarray(preds)\n",
        "print(classification_report(y_test, preds))\n",
        "pd.crosstab(y_test, preds)"
      ],
      "execution_count": 66,
      "outputs": [
        {
          "output_type": "stream",
          "text": [
            "              precision    recall  f1-score   support\n",
            "\n",
            "           0       0.51      0.51      0.51       740\n",
            "           1       0.52      0.51      0.51       759\n",
            "\n",
            "    accuracy                           0.51      1499\n",
            "   macro avg       0.51      0.51      0.51      1499\n",
            "weighted avg       0.51      0.51      0.51      1499\n",
            "\n"
          ],
          "name": "stdout"
        },
        {
          "output_type": "execute_result",
          "data": {
            "text/html": [
              "<div>\n",
              "<style scoped>\n",
              "    .dataframe tbody tr th:only-of-type {\n",
              "        vertical-align: middle;\n",
              "    }\n",
              "\n",
              "    .dataframe tbody tr th {\n",
              "        vertical-align: top;\n",
              "    }\n",
              "\n",
              "    .dataframe thead th {\n",
              "        text-align: right;\n",
              "    }\n",
              "</style>\n",
              "<table border=\"1\" class=\"dataframe\">\n",
              "  <thead>\n",
              "    <tr style=\"text-align: right;\">\n",
              "      <th>col_0</th>\n",
              "      <th>0</th>\n",
              "      <th>1</th>\n",
              "    </tr>\n",
              "    <tr>\n",
              "      <th>Label</th>\n",
              "      <th></th>\n",
              "      <th></th>\n",
              "    </tr>\n",
              "  </thead>\n",
              "  <tbody>\n",
              "    <tr>\n",
              "      <th>0</th>\n",
              "      <td>379</td>\n",
              "      <td>361</td>\n",
              "    </tr>\n",
              "    <tr>\n",
              "      <th>1</th>\n",
              "      <td>371</td>\n",
              "      <td>388</td>\n",
              "    </tr>\n",
              "  </tbody>\n",
              "</table>\n",
              "</div>"
            ],
            "text/plain": [
              "col_0    0    1\n",
              "Label          \n",
              "0      379  361\n",
              "1      371  388"
            ]
          },
          "metadata": {
            "tags": []
          },
          "execution_count": 66
        }
      ]
    },
    {
      "cell_type": "code",
      "metadata": {
        "colab": {
          "base_uri": "https://localhost:8080/",
          "height": 330
        },
        "id": "jnjSZ-TQpo90",
        "outputId": "b97a537d-0365-41fa-fdde-263d70d54d80"
      },
      "source": [
        "auc_1 = roc_auc_score(y_test, probas_1)\n",
        "\n",
        "print('Class 1: ROC AUC = %.3f' % (auc_1))\n",
        "\n",
        "f1 = f1_score(y_test, preds)\n",
        "print('F1 Score = %.3f' % (f1))\n",
        "\n",
        "acc = accuracy_score(y_test, preds)\n",
        "print('Accuracy = %.3f' % (acc))\n",
        "\n",
        "ns_1 = [1 for _ in range(len(y_test))]\n",
        "\n",
        "fpr_0, tpr_0, _ = roc_curve(y_test, probas_0)\n",
        "fpr_1, tpr_1, _ = roc_curve(y_test, probas_1)\n",
        "fpr_ns_1, tpr_ns_1, _ =  roc_curve(y_test, ns_1)\n",
        "\n",
        "pyplot.plot(fpr_ns_1, tpr_ns_1, linestyle='--', label='Only 1')\n",
        "pyplot.plot(fpr_1, tpr_1, marker='.', label='Model')\n",
        "pyplot.xlabel('False Positive Rate')\n",
        "pyplot.ylabel('True Positive Rate')\n",
        "pyplot.legend()\n",
        "pyplot.show()"
      ],
      "execution_count": 65,
      "outputs": [
        {
          "output_type": "stream",
          "text": [
            "Class 1: ROC AUC = 0.491\n",
            "F1 Score = 0.490\n",
            "Accuracy = 0.488\n"
          ],
          "name": "stdout"
        },
        {
          "output_type": "display_data",
          "data": {
            "image/png": "[encoded data removed]",
            "text/plain": [
              "<Figure size 432x288 with 1 Axes>"
            ]
          },
          "metadata": {
            "tags": [],
            "needs_background": "light"
          }
        }
      ]
    },
    {
      "cell_type": "code",
      "metadata": {
        "id": "9GRFPJMidGMy"
      },
      "source": [
        ""
      ],
      "execution_count": null,
      "outputs": []
    }
  ]
}