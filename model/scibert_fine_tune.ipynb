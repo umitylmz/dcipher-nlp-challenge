{
  "nbformat": 4,
  "nbformat_minor": 0,
  "metadata": {
    "accelerator": "GPU",
    "colab": {
      "name": "scibert_fine_tune.ipynb",
      "provenance": [],
      "collapsed_sections": []
    },
    "kernelspec": {
      "display_name": "Python 3",
      "name": "python3"
    },
    "widgets": {
      "application/vnd.jupyter.widget-state+json": {
        "333c177038174bc2be4f7678574ce27c": {
          "model_module": "@jupyter-widgets/controls",
          "model_name": "HBoxModel",
          "state": {
            "_view_name": "HBoxView",
            "_dom_classes": [],
            "_model_name": "HBoxModel",
            "_view_module": "@jupyter-widgets/controls",
            "_model_module_version": "1.5.0",
            "_view_count": null,
            "_view_module_version": "1.5.0",
            "box_style": "",
            "layout": "IPY_MODEL_06cc90901b4b4614a2a3acef1ceab21a",
            "_model_module": "@jupyter-widgets/controls",
            "children": [
              "IPY_MODEL_fad5b98351fd42a6b5f507cf7e3f7779",
              "IPY_MODEL_d2c8d3eec5d9432da32c7b6dfcee641d"
            ]
          }
        },
        "06cc90901b4b4614a2a3acef1ceab21a": {
          "model_module": "@jupyter-widgets/base",
          "model_name": "LayoutModel",
          "state": {
            "_view_name": "LayoutView",
            "grid_template_rows": null,
            "right": null,
            "justify_content": null,
            "_view_module": "@jupyter-widgets/base",
            "overflow": null,
            "_model_module_version": "1.2.0",
            "_view_count": null,
            "flex_flow": null,
            "width": null,
            "min_width": null,
            "border": null,
            "align_items": null,
            "bottom": null,
            "_model_module": "@jupyter-widgets/base",
            "top": null,
            "grid_column": null,
            "overflow_y": null,
            "overflow_x": null,
            "grid_auto_flow": null,
            "grid_area": null,
            "grid_template_columns": null,
            "flex": null,
            "_model_name": "LayoutModel",
            "justify_items": null,
            "grid_row": null,
            "max_height": null,
            "align_content": null,
            "visibility": null,
            "align_self": null,
            "height": null,
            "min_height": null,
            "padding": null,
            "grid_auto_rows": null,
            "grid_gap": null,
            "max_width": null,
            "order": null,
            "_view_module_version": "1.2.0",
            "grid_template_areas": null,
            "object_position": null,
            "object_fit": null,
            "grid_auto_columns": null,
            "margin": null,
            "display": null,
            "left": null
          }
        },
        "fad5b98351fd42a6b5f507cf7e3f7779": {
          "model_module": "@jupyter-widgets/controls",
          "model_name": "FloatProgressModel",
          "state": {
            "_view_name": "ProgressView",
            "style": "IPY_MODEL_c60f0890daf64870b93fc45d91a7dfa7",
            "_dom_classes": [],
            "description": "Downloading: 100%",
            "_model_name": "FloatProgressModel",
            "bar_style": "success",
            "max": 385,
            "_view_module": "@jupyter-widgets/controls",
            "_model_module_version": "1.5.0",
            "value": 385,
            "_view_count": null,
            "_view_module_version": "1.5.0",
            "orientation": "horizontal",
            "min": 0,
            "description_tooltip": null,
            "_model_module": "@jupyter-widgets/controls",
            "layout": "IPY_MODEL_5f7ba4b88cc34564bd5819fe18dadd60"
          }
        },
        "d2c8d3eec5d9432da32c7b6dfcee641d": {
          "model_module": "@jupyter-widgets/controls",
          "model_name": "HTMLModel",
          "state": {
            "_view_name": "HTMLView",
            "style": "IPY_MODEL_54c6232abe6542f0a4d9b5f5dc3a56fc",
            "_dom_classes": [],
            "description": "",
            "_model_name": "HTMLModel",
            "placeholder": "​",
            "_view_module": "@jupyter-widgets/controls",
            "_model_module_version": "1.5.0",
            "value": " 385/385 [00:00&lt;00:00, 624B/s]",
            "_view_count": null,
            "_view_module_version": "1.5.0",
            "description_tooltip": null,
            "_model_module": "@jupyter-widgets/controls",
            "layout": "IPY_MODEL_93909feaa32b4be196b82a23962acc9c"
          }
        },
        "c60f0890daf64870b93fc45d91a7dfa7": {
          "model_module": "@jupyter-widgets/controls",
          "model_name": "ProgressStyleModel",
          "state": {
            "_view_name": "StyleView",
            "_model_name": "ProgressStyleModel",
            "description_width": "initial",
            "_view_module": "@jupyter-widgets/base",
            "_model_module_version": "1.5.0",
            "_view_count": null,
            "_view_module_version": "1.2.0",
            "bar_color": null,
            "_model_module": "@jupyter-widgets/controls"
          }
        },
        "5f7ba4b88cc34564bd5819fe18dadd60": {
          "model_module": "@jupyter-widgets/base",
          "model_name": "LayoutModel",
          "state": {
            "_view_name": "LayoutView",
            "grid_template_rows": null,
            "right": null,
            "justify_content": null,
            "_view_module": "@jupyter-widgets/base",
            "overflow": null,
            "_model_module_version": "1.2.0",
            "_view_count": null,
            "flex_flow": null,
            "width": null,
            "min_width": null,
            "border": null,
            "align_items": null,
            "bottom": null,
            "_model_module": "@jupyter-widgets/base",
            "top": null,
            "grid_column": null,
            "overflow_y": null,
            "overflow_x": null,
            "grid_auto_flow": null,
            "grid_area": null,
            "grid_template_columns": null,
            "flex": null,
            "_model_name": "LayoutModel",
            "justify_items": null,
            "grid_row": null,
            "max_height": null,
            "align_content": null,
            "visibility": null,
            "align_self": null,
            "height": null,
            "min_height": null,
            "padding": null,
            "grid_auto_rows": null,
            "grid_gap": null,
            "max_width": null,
            "order": null,
            "_view_module_version": "1.2.0",
            "grid_template_areas": null,
            "object_position": null,
            "object_fit": null,
            "grid_auto_columns": null,
            "margin": null,
            "display": null,
            "left": null
          }
        },
        "54c6232abe6542f0a4d9b5f5dc3a56fc": {
          "model_module": "@jupyter-widgets/controls",
          "model_name": "DescriptionStyleModel",
          "state": {
            "_view_name": "StyleView",
            "_model_name": "DescriptionStyleModel",
            "description_width": "",
            "_view_module": "@jupyter-widgets/base",
            "_model_module_version": "1.5.0",
            "_view_count": null,
            "_view_module_version": "1.2.0",
            "_model_module": "@jupyter-widgets/controls"
          }
        },
        "93909feaa32b4be196b82a23962acc9c": {
          "model_module": "@jupyter-widgets/base",
          "model_name": "LayoutModel",
          "state": {
            "_view_name": "LayoutView",
            "grid_template_rows": null,
            "right": null,
            "justify_content": null,
            "_view_module": "@jupyter-widgets/base",
            "overflow": null,
            "_model_module_version": "1.2.0",
            "_view_count": null,
            "flex_flow": null,
            "width": null,
            "min_width": null,
            "border": null,
            "align_items": null,
            "bottom": null,
            "_model_module": "@jupyter-widgets/base",
            "top": null,
            "grid_column": null,
            "overflow_y": null,
            "overflow_x": null,
            "grid_auto_flow": null,
            "grid_area": null,
            "grid_template_columns": null,
            "flex": null,
            "_model_name": "LayoutModel",
            "justify_items": null,
            "grid_row": null,
            "max_height": null,
            "align_content": null,
            "visibility": null,
            "align_self": null,
            "height": null,
            "min_height": null,
            "padding": null,
            "grid_auto_rows": null,
            "grid_gap": null,
            "max_width": null,
            "order": null,
            "_view_module_version": "1.2.0",
            "grid_template_areas": null,
            "object_position": null,
            "object_fit": null,
            "grid_auto_columns": null,
            "margin": null,
            "display": null,
            "left": null
          }
        },
        "e1a24b8249f340ee9a9692934ee435e7": {
          "model_module": "@jupyter-widgets/controls",
          "model_name": "HBoxModel",
          "state": {
            "_view_name": "HBoxView",
            "_dom_classes": [],
            "_model_name": "HBoxModel",
            "_view_module": "@jupyter-widgets/controls",
            "_model_module_version": "1.5.0",
            "_view_count": null,
            "_view_module_version": "1.5.0",
            "box_style": "",
            "layout": "IPY_MODEL_bac303041bc84fa0a3f8926fbb742068",
            "_model_module": "@jupyter-widgets/controls",
            "children": [
              "IPY_MODEL_3b566ef70ddc4ee7bdc9bba3f353ef71",
              "IPY_MODEL_c1fbab097d96425ca100cb39276e07e7"
            ]
          }
        },
        "bac303041bc84fa0a3f8926fbb742068": {
          "model_module": "@jupyter-widgets/base",
          "model_name": "LayoutModel",
          "state": {
            "_view_name": "LayoutView",
            "grid_template_rows": null,
            "right": null,
            "justify_content": null,
            "_view_module": "@jupyter-widgets/base",
            "overflow": null,
            "_model_module_version": "1.2.0",
            "_view_count": null,
            "flex_flow": null,
            "width": null,
            "min_width": null,
            "border": null,
            "align_items": null,
            "bottom": null,
            "_model_module": "@jupyter-widgets/base",
            "top": null,
            "grid_column": null,
            "overflow_y": null,
            "overflow_x": null,
            "grid_auto_flow": null,
            "grid_area": null,
            "grid_template_columns": null,
            "flex": null,
            "_model_name": "LayoutModel",
            "justify_items": null,
            "grid_row": null,
            "max_height": null,
            "align_content": null,
            "visibility": null,
            "align_self": null,
            "height": null,
            "min_height": null,
            "padding": null,
            "grid_auto_rows": null,
            "grid_gap": null,
            "max_width": null,
            "order": null,
            "_view_module_version": "1.2.0",
            "grid_template_areas": null,
            "object_position": null,
            "object_fit": null,
            "grid_auto_columns": null,
            "margin": null,
            "display": null,
            "left": null
          }
        },
        "3b566ef70ddc4ee7bdc9bba3f353ef71": {
          "model_module": "@jupyter-widgets/controls",
          "model_name": "FloatProgressModel",
          "state": {
            "_view_name": "ProgressView",
            "style": "IPY_MODEL_235d5d46d1fa463ab63d49aea9976f55",
            "_dom_classes": [],
            "description": "Downloading: 100%",
            "_model_name": "FloatProgressModel",
            "bar_style": "success",
            "max": 227845,
            "_view_module": "@jupyter-widgets/controls",
            "_model_module_version": "1.5.0",
            "value": 227845,
            "_view_count": null,
            "_view_module_version": "1.5.0",
            "orientation": "horizontal",
            "min": 0,
            "description_tooltip": null,
            "_model_module": "@jupyter-widgets/controls",
            "layout": "IPY_MODEL_fb59b3385eda4aa89c4438f3317ec9af"
          }
        },
        "c1fbab097d96425ca100cb39276e07e7": {
          "model_module": "@jupyter-widgets/controls",
          "model_name": "HTMLModel",
          "state": {
            "_view_name": "HTMLView",
            "style": "IPY_MODEL_707bf1d34fa741a59c9d4ee32a69a23f",
            "_dom_classes": [],
            "description": "",
            "_model_name": "HTMLModel",
            "placeholder": "​",
            "_view_module": "@jupyter-widgets/controls",
            "_model_module_version": "1.5.0",
            "value": " 228k/228k [00:01&lt;00:00, 205kB/s]",
            "_view_count": null,
            "_view_module_version": "1.5.0",
            "description_tooltip": null,
            "_model_module": "@jupyter-widgets/controls",
            "layout": "IPY_MODEL_b222a39c491d4b36906d457aa001029f"
          }
        },
        "235d5d46d1fa463ab63d49aea9976f55": {
          "model_module": "@jupyter-widgets/controls",
          "model_name": "ProgressStyleModel",
          "state": {
            "_view_name": "StyleView",
            "_model_name": "ProgressStyleModel",
            "description_width": "initial",
            "_view_module": "@jupyter-widgets/base",
            "_model_module_version": "1.5.0",
            "_view_count": null,
            "_view_module_version": "1.2.0",
            "bar_color": null,
            "_model_module": "@jupyter-widgets/controls"
          }
        },
        "fb59b3385eda4aa89c4438f3317ec9af": {
          "model_module": "@jupyter-widgets/base",
          "model_name": "LayoutModel",
          "state": {
            "_view_name": "LayoutView",
            "grid_template_rows": null,
            "right": null,
            "justify_content": null,
            "_view_module": "@jupyter-widgets/base",
            "overflow": null,
            "_model_module_version": "1.2.0",
            "_view_count": null,
            "flex_flow": null,
            "width": null,
            "min_width": null,
            "border": null,
            "align_items": null,
            "bottom": null,
            "_model_module": "@jupyter-widgets/base",
            "top": null,
            "grid_column": null,
            "overflow_y": null,
            "overflow_x": null,
            "grid_auto_flow": null,
            "grid_area": null,
            "grid_template_columns": null,
            "flex": null,
            "_model_name": "LayoutModel",
            "justify_items": null,
            "grid_row": null,
            "max_height": null,
            "align_content": null,
            "visibility": null,
            "align_self": null,
            "height": null,
            "min_height": null,
            "padding": null,
            "grid_auto_rows": null,
            "grid_gap": null,
            "max_width": null,
            "order": null,
            "_view_module_version": "1.2.0",
            "grid_template_areas": null,
            "object_position": null,
            "object_fit": null,
            "grid_auto_columns": null,
            "margin": null,
            "display": null,
            "left": null
          }
        },
        "707bf1d34fa741a59c9d4ee32a69a23f": {
          "model_module": "@jupyter-widgets/controls",
          "model_name": "DescriptionStyleModel",
          "state": {
            "_view_name": "StyleView",
            "_model_name": "DescriptionStyleModel",
            "description_width": "",
            "_view_module": "@jupyter-widgets/base",
            "_model_module_version": "1.5.0",
            "_view_count": null,
            "_view_module_version": "1.2.0",
            "_model_module": "@jupyter-widgets/controls"
          }
        },
        "b222a39c491d4b36906d457aa001029f": {
          "model_module": "@jupyter-widgets/base",
          "model_name": "LayoutModel",
          "state": {
            "_view_name": "LayoutView",
            "grid_template_rows": null,
            "right": null,
            "justify_content": null,
            "_view_module": "@jupyter-widgets/base",
            "overflow": null,
            "_model_module_version": "1.2.0",
            "_view_count": null,
            "flex_flow": null,
            "width": null,
            "min_width": null,
            "border": null,
            "align_items": null,
            "bottom": null,
            "_model_module": "@jupyter-widgets/base",
            "top": null,
            "grid_column": null,
            "overflow_y": null,
            "overflow_x": null,
            "grid_auto_flow": null,
            "grid_area": null,
            "grid_template_columns": null,
            "flex": null,
            "_model_name": "LayoutModel",
            "justify_items": null,
            "grid_row": null,
            "max_height": null,
            "align_content": null,
            "visibility": null,
            "align_self": null,
            "height": null,
            "min_height": null,
            "padding": null,
            "grid_auto_rows": null,
            "grid_gap": null,
            "max_width": null,
            "order": null,
            "_view_module_version": "1.2.0",
            "grid_template_areas": null,
            "object_position": null,
            "object_fit": null,
            "grid_auto_columns": null,
            "margin": null,
            "display": null,
            "left": null
          }
        },
        "c237229df9b3438ba3459e5b57900c4a": {
          "model_module": "@jupyter-widgets/controls",
          "model_name": "HBoxModel",
          "state": {
            "_view_name": "HBoxView",
            "_dom_classes": [],
            "_model_name": "HBoxModel",
            "_view_module": "@jupyter-widgets/controls",
            "_model_module_version": "1.5.0",
            "_view_count": null,
            "_view_module_version": "1.5.0",
            "box_style": "",
            "layout": "IPY_MODEL_9a7d5a8dc1ea4b2c8a9d439ed1f10ace",
            "_model_module": "@jupyter-widgets/controls",
            "children": [
              "IPY_MODEL_0e37233c8825482899e9f8a1ef059889",
              "IPY_MODEL_2765feb8310b43d895d002f3214af15d"
            ]
          }
        },
        "9a7d5a8dc1ea4b2c8a9d439ed1f10ace": {
          "model_module": "@jupyter-widgets/base",
          "model_name": "LayoutModel",
          "state": {
            "_view_name": "LayoutView",
            "grid_template_rows": null,
            "right": null,
            "justify_content": null,
            "_view_module": "@jupyter-widgets/base",
            "overflow": null,
            "_model_module_version": "1.2.0",
            "_view_count": null,
            "flex_flow": null,
            "width": null,
            "min_width": null,
            "border": null,
            "align_items": null,
            "bottom": null,
            "_model_module": "@jupyter-widgets/base",
            "top": null,
            "grid_column": null,
            "overflow_y": null,
            "overflow_x": null,
            "grid_auto_flow": null,
            "grid_area": null,
            "grid_template_columns": null,
            "flex": null,
            "_model_name": "LayoutModel",
            "justify_items": null,
            "grid_row": null,
            "max_height": null,
            "align_content": null,
            "visibility": null,
            "align_self": null,
            "height": null,
            "min_height": null,
            "padding": null,
            "grid_auto_rows": null,
            "grid_gap": null,
            "max_width": null,
            "order": null,
            "_view_module_version": "1.2.0",
            "grid_template_areas": null,
            "object_position": null,
            "object_fit": null,
            "grid_auto_columns": null,
            "margin": null,
            "display": null,
            "left": null
          }
        },
        "0e37233c8825482899e9f8a1ef059889": {
          "model_module": "@jupyter-widgets/controls",
          "model_name": "FloatProgressModel",
          "state": {
            "_view_name": "ProgressView",
            "style": "IPY_MODEL_1e0f07d21db0427088dfed22cba71af7",
            "_dom_classes": [],
            "description": "Downloading: 100%",
            "_model_name": "FloatProgressModel",
            "bar_style": "success",
            "max": 442221694,
            "_view_module": "@jupyter-widgets/controls",
            "_model_module_version": "1.5.0",
            "value": 442221694,
            "_view_count": null,
            "_view_module_version": "1.5.0",
            "orientation": "horizontal",
            "min": 0,
            "description_tooltip": null,
            "_model_module": "@jupyter-widgets/controls",
            "layout": "IPY_MODEL_fc267aa268ab40a8a364a83b54807dd6"
          }
        },
        "2765feb8310b43d895d002f3214af15d": {
          "model_module": "@jupyter-widgets/controls",
          "model_name": "HTMLModel",
          "state": {
            "_view_name": "HTMLView",
            "style": "IPY_MODEL_65eab5d4d9224f9682dc65db748a5f00",
            "_dom_classes": [],
            "description": "",
            "_model_name": "HTMLModel",
            "placeholder": "​",
            "_view_module": "@jupyter-widgets/controls",
            "_model_module_version": "1.5.0",
            "value": " 442M/442M [00:15&lt;00:00, 28.6MB/s]",
            "_view_count": null,
            "_view_module_version": "1.5.0",
            "description_tooltip": null,
            "_model_module": "@jupyter-widgets/controls",
            "layout": "IPY_MODEL_1ad6e77c2da64bae850406b26ba583fd"
          }
        },
        "1e0f07d21db0427088dfed22cba71af7": {
          "model_module": "@jupyter-widgets/controls",
          "model_name": "ProgressStyleModel",
          "state": {
            "_view_name": "StyleView",
            "_model_name": "ProgressStyleModel",
            "description_width": "initial",
            "_view_module": "@jupyter-widgets/base",
            "_model_module_version": "1.5.0",
            "_view_count": null,
            "_view_module_version": "1.2.0",
            "bar_color": null,
            "_model_module": "@jupyter-widgets/controls"
          }
        },
        "fc267aa268ab40a8a364a83b54807dd6": {
          "model_module": "@jupyter-widgets/base",
          "model_name": "LayoutModel",
          "state": {
            "_view_name": "LayoutView",
            "grid_template_rows": null,
            "right": null,
            "justify_content": null,
            "_view_module": "@jupyter-widgets/base",
            "overflow": null,
            "_model_module_version": "1.2.0",
            "_view_count": null,
            "flex_flow": null,
            "width": null,
            "min_width": null,
            "border": null,
            "align_items": null,
            "bottom": null,
            "_model_module": "@jupyter-widgets/base",
            "top": null,
            "grid_column": null,
            "overflow_y": null,
            "overflow_x": null,
            "grid_auto_flow": null,
            "grid_area": null,
            "grid_template_columns": null,
            "flex": null,
            "_model_name": "LayoutModel",
            "justify_items": null,
            "grid_row": null,
            "max_height": null,
            "align_content": null,
            "visibility": null,
            "align_self": null,
            "height": null,
            "min_height": null,
            "padding": null,
            "grid_auto_rows": null,
            "grid_gap": null,
            "max_width": null,
            "order": null,
            "_view_module_version": "1.2.0",
            "grid_template_areas": null,
            "object_position": null,
            "object_fit": null,
            "grid_auto_columns": null,
            "margin": null,
            "display": null,
            "left": null
          }
        },
        "65eab5d4d9224f9682dc65db748a5f00": {
          "model_module": "@jupyter-widgets/controls",
          "model_name": "DescriptionStyleModel",
          "state": {
            "_view_name": "StyleView",
            "_model_name": "DescriptionStyleModel",
            "description_width": "",
            "_view_module": "@jupyter-widgets/base",
            "_model_module_version": "1.5.0",
            "_view_count": null,
            "_view_module_version": "1.2.0",
            "_model_module": "@jupyter-widgets/controls"
          }
        },
        "1ad6e77c2da64bae850406b26ba583fd": {
          "model_module": "@jupyter-widgets/base",
          "model_name": "LayoutModel",
          "state": {
            "_view_name": "LayoutView",
            "grid_template_rows": null,
            "right": null,
            "justify_content": null,
            "_view_module": "@jupyter-widgets/base",
            "overflow": null,
            "_model_module_version": "1.2.0",
            "_view_count": null,
            "flex_flow": null,
            "width": null,
            "min_width": null,
            "border": null,
            "align_items": null,
            "bottom": null,
            "_model_module": "@jupyter-widgets/base",
            "top": null,
            "grid_column": null,
            "overflow_y": null,
            "overflow_x": null,
            "grid_auto_flow": null,
            "grid_area": null,
            "grid_template_columns": null,
            "flex": null,
            "_model_name": "LayoutModel",
            "justify_items": null,
            "grid_row": null,
            "max_height": null,
            "align_content": null,
            "visibility": null,
            "align_self": null,
            "height": null,
            "min_height": null,
            "padding": null,
            "grid_auto_rows": null,
            "grid_gap": null,
            "max_width": null,
            "order": null,
            "_view_module_version": "1.2.0",
            "grid_template_areas": null,
            "object_position": null,
            "object_fit": null,
            "grid_auto_columns": null,
            "margin": null,
            "display": null,
            "left": null
          }
        }
      }
    }
  },
  "cells": [
    {
      "cell_type": "code",
      "metadata": {
        "colab": {
          "base_uri": "https://localhost:8080/"
        },
        "id": "vgF6VR8fVUS6",
        "outputId": "e596b8c9-a6f7-4ac4-bb8b-4cdfa97b78f6"
      },
      "source": [
        "!git clone https://github.com/kairosfuture/dcipher-nlp-challenge.git\n",
        "!pip install transformers\n",
        "!pip install pycodestyle\n",
        "!pip install --index-url https://test.pypi.org/simple/ nbpep8"
      ],
      "execution_count": 1,
      "outputs": [
        {
          "output_type": "stream",
          "text": [
            "Cloning into 'dcipher-nlp-challenge'...\n",
            "remote: Enumerating objects: 22, done.\u001b[K\n",
            "remote: Counting objects: 100% (22/22), done.\u001b[K\n",
            "remote: Compressing objects: 100% (14/14), done.\u001b[K\n",
            "remote: Total 22 (delta 9), reused 18 (delta 5), pack-reused 0\u001b[K\n",
            "Unpacking objects: 100% (22/22), done.\n",
            "Collecting transformers\n",
            "\u001b[?25l  Downloading https://files.pythonhosted.org/packages/50/0c/7d5950fcd80b029be0a8891727ba21e0cd27692c407c51261c3c921f6da3/transformers-4.1.1-py3-none-any.whl (1.5MB)\n",
            "\u001b[K     |████████████████████████████████| 1.5MB 9.0MB/s \n",
            "\u001b[?25hRequirement already satisfied: numpy in /usr/local/lib/python3.6/dist-packages (from transformers) (1.19.4)\n",
            "Collecting sacremoses\n",
            "\u001b[?25l  Downloading https://files.pythonhosted.org/packages/7d/34/09d19aff26edcc8eb2a01bed8e98f13a1537005d31e95233fd48216eed10/sacremoses-0.0.43.tar.gz (883kB)\n",
            "\u001b[K     |████████████████████████████████| 890kB 29.8MB/s \n",
            "\u001b[?25hRequirement already satisfied: dataclasses; python_version < \"3.7\" in /usr/local/lib/python3.6/dist-packages (from transformers) (0.8)\n",
            "Requirement already satisfied: filelock in /usr/local/lib/python3.6/dist-packages (from transformers) (3.0.12)\n",
            "Requirement already satisfied: packaging in /usr/local/lib/python3.6/dist-packages (from transformers) (20.8)\n",
            "Requirement already satisfied: tqdm>=4.27 in /usr/local/lib/python3.6/dist-packages (from transformers) (4.41.1)\n",
            "Collecting tokenizers==0.9.4\n",
            "\u001b[?25l  Downloading https://files.pythonhosted.org/packages/0f/1c/e789a8b12e28be5bc1ce2156cf87cb522b379be9cadc7ad8091a4cc107c4/tokenizers-0.9.4-cp36-cp36m-manylinux2010_x86_64.whl (2.9MB)\n",
            "\u001b[K     |████████████████████████████████| 2.9MB 42.4MB/s \n",
            "\u001b[?25hRequirement already satisfied: regex!=2019.12.17 in /usr/local/lib/python3.6/dist-packages (from transformers) (2019.12.20)\n",
            "Requirement already satisfied: requests in /usr/local/lib/python3.6/dist-packages (from transformers) (2.23.0)\n",
            "Requirement already satisfied: six in /usr/local/lib/python3.6/dist-packages (from sacremoses->transformers) (1.15.0)\n",
            "Requirement already satisfied: click in /usr/local/lib/python3.6/dist-packages (from sacremoses->transformers) (7.1.2)\n",
            "Requirement already satisfied: joblib in /usr/local/lib/python3.6/dist-packages (from sacremoses->transformers) (1.0.0)\n",
            "Requirement already satisfied: pyparsing>=2.0.2 in /usr/local/lib/python3.6/dist-packages (from packaging->transformers) (2.4.7)\n",
            "Requirement already satisfied: idna<3,>=2.5 in /usr/local/lib/python3.6/dist-packages (from requests->transformers) (2.10)\n",
            "Requirement already satisfied: chardet<4,>=3.0.2 in /usr/local/lib/python3.6/dist-packages (from requests->transformers) (3.0.4)\n",
            "Requirement already satisfied: certifi>=2017.4.17 in /usr/local/lib/python3.6/dist-packages (from requests->transformers) (2020.12.5)\n",
            "Requirement already satisfied: urllib3!=1.25.0,!=1.25.1,<1.26,>=1.21.1 in /usr/local/lib/python3.6/dist-packages (from requests->transformers) (1.24.3)\n",
            "Building wheels for collected packages: sacremoses\n",
            "  Building wheel for sacremoses (setup.py) ... \u001b[?25l\u001b[?25hdone\n",
            "  Created wheel for sacremoses: filename=sacremoses-0.0.43-cp36-none-any.whl size=893261 sha256=c012d266a851e0750517ded1b3fbbe12bcec629e35325d066fef48bdeb5b1078\n",
            "  Stored in directory: /root/.cache/pip/wheels/29/3c/fd/7ce5c3f0666dab31a50123635e6fb5e19ceb42ce38d4e58f45\n",
            "Successfully built sacremoses\n",
            "Installing collected packages: sacremoses, tokenizers, transformers\n",
            "Successfully installed sacremoses-0.0.43 tokenizers-0.9.4 transformers-4.1.1\n",
            "Collecting pycodestyle\n",
            "\u001b[?25l  Downloading https://files.pythonhosted.org/packages/10/5b/88879fb861ab79aef45c7e199cae3ef7af487b5603dcb363517a50602dd7/pycodestyle-2.6.0-py2.py3-none-any.whl (41kB)\n",
            "\u001b[K     |████████████████████████████████| 51kB 6.0MB/s \n",
            "\u001b[?25hInstalling collected packages: pycodestyle\n",
            "Successfully installed pycodestyle-2.6.0\n",
            "Looking in indexes: https://test.pypi.org/simple/\n",
            "Collecting nbpep8\n",
            "  Downloading https://test-files.pythonhosted.org/packages/c1/07/6b91c986efe7c3adac9e2ec061037f0cc4307925819d37277c3802c2d117/nbpep8-0.0.15-py3-none-any.whl\n",
            "Installing collected packages: nbpep8\n",
            "Successfully installed nbpep8-0.0.15\n"
          ],
          "name": "stdout"
        }
      ]
    },
    {
      "cell_type": "code",
      "metadata": {
        "colab": {
          "base_uri": "https://localhost:8080/"
        },
        "id": "e-pP-b0GAPsg",
        "outputId": "c089925b-eb9e-4660-fae9-ed4009aaeb33"
      },
      "source": [
        "from google.colab import drive\n",
        "drive.mount('/content/drive')"
      ],
      "execution_count": 2,
      "outputs": [
        {
          "output_type": "stream",
          "text": [
            "Mounted at /content/drive\n"
          ],
          "name": "stdout"
        }
      ]
    },
    {
      "cell_type": "code",
      "metadata": {
        "id": "wfGgMRdadUR2"
      },
      "source": [
        "import json\n",
        "import pandas as pd   \n",
        "import numpy as np\n",
        "import torch\n",
        "import torch.nn as nn\n",
        "import torch.optim as optim\n",
        "from sklearn.model_selection import train_test_split\n",
        "from sklearn.metrics import classification_report\n",
        "import transformers\n",
        "from transformers import AutoTokenizer, AutoModelForSequenceClassification\n",
        "import os\n",
        "os.environ['CUDA_LAUNCH_BLOCKING'] = \"1\"\n",
        "from sklearn.metrics import f1_score\n",
        "from sklearn.metrics import accuracy_score\n",
        "from matplotlib import pyplot\n",
        "from sklearn import metrics\n",
        "from sklearn.metrics import roc_curve\n",
        "from sklearn.metrics import roc_auc_score"
      ],
      "execution_count": 3,
      "outputs": []
    },
    {
      "cell_type": "code",
      "metadata": {
        "colab": {
          "base_uri": "https://localhost:8080/"
        },
        "id": "Si9mJ5CeWHFc",
        "outputId": "844212e1-165b-4062-f03b-9d1e0dd471bd"
      },
      "source": [
        "file = '/content/dcipher-nlp-challenge/data/wos2class.json'\n",
        "with open(file) as df:\n",
        "    dict_train = json.load(df)\n",
        "\n",
        "df = pd.DataFrame.from_dict(dict_train)\n",
        "print(df.shape)\n",
        "print(df.isna().sum())\n",
        "\n",
        "df.drop(df[df['Abstract'].str.len() < 10].index, inplace=True)\n",
        "df['title_abstract'] = df['Title'] + \". \" + df['Abstract']\n",
        "df['Label'] = (df['Label'] == 'Material Science').astype('int')\n",
        "\n",
        "print(df['Label'].value_counts(normalize=True))"
      ],
      "execution_count": 4,
      "outputs": [
        {
          "output_type": "stream",
          "text": [
            "(7494, 3)\n",
            "Title       0\n",
            "Abstract    0\n",
            "Label       0\n",
            "dtype: int64\n",
            "1    0.506072\n",
            "0    0.493928\n",
            "Name: Label, dtype: float64\n"
          ],
          "name": "stdout"
        }
      ]
    },
    {
      "cell_type": "code",
      "metadata": {
        "colab": {
          "base_uri": "https://localhost:8080/",
          "height": 54
        },
        "id": "vEhR6OumoDUA",
        "outputId": "1a62f789-1d9f-4213-b327-328a234b9794"
      },
      "source": [
        "train, test, y_train, y_test = train_test_split(df['title_abstract'],\n",
        "                                                df['Label'],\n",
        "                                                test_size=0.2,\n",
        "                                                random_state=42,\n",
        "                                                stratify=df['Label'])\n",
        "\n",
        "train, val, y_train, y_val = train_test_split(train,\n",
        "                                              y_train,\n",
        "                                              test_size=0.2,\n",
        "                                              random_state=42,\n",
        "                                              stratify=y_train)\n",
        "\n",
        "'''\n",
        "df_train = pd.concat([train, y_train], ignore_index=True, sort=False, axis=1)\n",
        "df_val = pd.concat([val, y_val], ignore_index=True, sort=False, axis=1)\n",
        "df_test = pd.concat([test, y_test], ignore_index=True, sort=False, axis=1)\n",
        "\n",
        "df_train.to_csv('train.csv', index=False)\n",
        "df_val.to_csv('valid.csv', index=False)\n",
        "df_test.to_csv('test.csv', index=False)\n",
        "'''"
      ],
      "execution_count": 5,
      "outputs": [
        {
          "output_type": "execute_result",
          "data": {
            "application/vnd.google.colaboratory.intrinsic+json": {
              "type": "string"
            },
            "text/plain": [
              "\"\\ndf_train = pd.concat([train, y_train], ignore_index=True, sort=False, axis=1)\\ndf_val = pd.concat([val, y_val], ignore_index=True, sort=False, axis=1)\\ndf_test = pd.concat([test, y_test], ignore_index=True, sort=False, axis=1)\\n\\ndf_train.to_csv('train.csv', index=False)\\ndf_val.to_csv('valid.csv', index=False)\\ndf_test.to_csv('test.csv', index=False)\\n\""
            ]
          },
          "metadata": {
            "tags": []
          },
          "execution_count": 5
        }
      ]
    },
    {
      "cell_type": "code",
      "metadata": {
        "colab": {
          "base_uri": "https://localhost:8080/"
        },
        "id": "I9RTAn_1sc45",
        "outputId": "31e54a69-101c-40dd-99f1-44c22e7819e2"
      },
      "source": [
        "device = torch.device(\"cuda:0\" if torch.cuda.is_available() else \"cpu\")\n",
        "torch.backends.cudnn.deterministic = True\n",
        "seed = 17\n",
        "torch.manual_seed(seed)"
      ],
      "execution_count": 6,
      "outputs": [
        {
          "output_type": "execute_result",
          "data": {
            "text/plain": [
              "<torch._C.Generator at 0x7f96fb89fc30>"
            ]
          },
          "metadata": {
            "tags": []
          },
          "execution_count": 6
        }
      ]
    },
    {
      "cell_type": "code",
      "metadata": {
        "colab": {
          "base_uri": "https://localhost:8080/",
          "height": 265
        },
        "id": "gRBEeZ6nHB7Y",
        "outputId": "6b7d4f01-31dd-449c-9194-2665071fddcb"
      },
      "source": [
        "seq_len = [len(i.split()) for i in train]\n",
        "pd.Series(seq_len).hist(bins=50)\n",
        "max_seq_len = 512"
      ],
      "execution_count": 7,
      "outputs": [
        {
          "output_type": "display_data",
          "data": {
            "image/png": "[encoded data removed]",
            "text/plain": [
              "<Figure size 432x288 with 1 Axes>"
            ]
          },
          "metadata": {
            "tags": [],
            "needs_background": "light"
          }
        }
      ]
    },
    {
      "cell_type": "code",
      "metadata": {
        "id": "vbBn0_PoJgRe",
        "colab": {
          "base_uri": "https://localhost:8080/",
          "height": 115,
          "referenced_widgets": [
            "333c177038174bc2be4f7678574ce27c",
            "06cc90901b4b4614a2a3acef1ceab21a",
            "fad5b98351fd42a6b5f507cf7e3f7779",
            "d2c8d3eec5d9432da32c7b6dfcee641d",
            "c60f0890daf64870b93fc45d91a7dfa7",
            "5f7ba4b88cc34564bd5819fe18dadd60",
            "54c6232abe6542f0a4d9b5f5dc3a56fc",
            "93909feaa32b4be196b82a23962acc9c",
            "e1a24b8249f340ee9a9692934ee435e7",
            "bac303041bc84fa0a3f8926fbb742068",
            "3b566ef70ddc4ee7bdc9bba3f353ef71",
            "c1fbab097d96425ca100cb39276e07e7",
            "235d5d46d1fa463ab63d49aea9976f55",
            "fb59b3385eda4aa89c4438f3317ec9af",
            "707bf1d34fa741a59c9d4ee32a69a23f",
            "b222a39c491d4b36906d457aa001029f"
          ]
        },
        "outputId": "3077a492-bb92-4c7c-9b4e-b231d4e8ca72"
      },
      "source": [
        "tokenizer = AutoTokenizer.from_pretrained('allenai/scibert_scivocab_uncased')\n",
        "\n",
        "tokens_train = tokenizer.batch_encode_plus(train.tolist(),\n",
        "                                           max_length=max_seq_len,\n",
        "                                           padding=True,\n",
        "                                           truncation=True,\n",
        "                                           return_token_type_ids=False)\n",
        "\n",
        "tokens_val = tokenizer.batch_encode_plus(val.tolist(),\n",
        "                                         max_length=max_seq_len,\n",
        "                                         padding=True,\n",
        "                                         truncation=True,\n",
        "                                         return_token_type_ids=False)\n",
        "\n",
        "tokens_test = tokenizer.batch_encode_plus(test.tolist(),\n",
        "                                          max_length=max_seq_len,\n",
        "                                          padding=True,\n",
        "                                          truncation=True,\n",
        "                                          return_token_type_ids=False)"
      ],
      "execution_count": 8,
      "outputs": [
        {
          "output_type": "display_data",
          "data": {
            "application/vnd.jupyter.widget-view+json": {
              "model_id": "333c177038174bc2be4f7678574ce27c",
              "version_minor": 0,
              "version_major": 2
            },
            "text/plain": [
              "HBox(children=(FloatProgress(value=0.0, description='Downloading', max=385.0, style=ProgressStyle(description_…"
            ]
          },
          "metadata": {
            "tags": []
          }
        },
        {
          "output_type": "stream",
          "text": [
            "\n"
          ],
          "name": "stdout"
        },
        {
          "output_type": "display_data",
          "data": {
            "application/vnd.jupyter.widget-view+json": {
              "model_id": "e1a24b8249f340ee9a9692934ee435e7",
              "version_minor": 0,
              "version_major": 2
            },
            "text/plain": [
              "HBox(children=(FloatProgress(value=0.0, description='Downloading', max=227845.0, style=ProgressStyle(descripti…"
            ]
          },
          "metadata": {
            "tags": []
          }
        },
        {
          "output_type": "stream",
          "text": [
            "\n"
          ],
          "name": "stdout"
        }
      ]
    },
    {
      "cell_type": "code",
      "metadata": {
        "id": "niTwunqTJ3Hs"
      },
      "source": [
        "train_seq = torch.tensor(tokens_train['input_ids'])\n",
        "train_mask = torch.tensor(tokens_train['attention_mask'])\n",
        "train_y = torch.tensor(y_train.tolist())\n",
        "\n",
        "val_seq = torch.tensor(tokens_val['input_ids'])\n",
        "val_mask = torch.tensor(tokens_val['attention_mask'])\n",
        "val_y = torch.tensor(y_val.tolist())\n",
        "\n",
        "test_seq = torch.tensor(tokens_test['input_ids'])\n",
        "test_mask = torch.tensor(tokens_test['attention_mask'])\n",
        "test_y = torch.tensor(y_test.tolist())"
      ],
      "execution_count": 9,
      "outputs": []
    },
    {
      "cell_type": "code",
      "metadata": {
        "id": "HqrrXAmSNg_k"
      },
      "source": [
        "from torch.utils.data import TensorDataset, DataLoader\n",
        "from torch.utils.data import RandomSampler, SequentialSampler\n",
        "\n",
        "batch_size = 12\n",
        "\n",
        "train_data = TensorDataset(train_seq, train_mask, train_y)\n",
        "train_sampler = RandomSampler(train_data)\n",
        "train_dataloader = DataLoader(train_data,\n",
        "                              sampler=train_sampler,\n",
        "                              batch_size=batch_size)\n",
        "\n",
        "val_data = TensorDataset(val_seq, val_mask, val_y)\n",
        "val_sampler = SequentialSampler(val_data)\n",
        "val_dataloader = DataLoader(val_data,\n",
        "                            sampler=val_sampler,\n",
        "                            batch_size=batch_size)\n",
        "\n",
        "test_data = TensorDataset(test_seq, test_mask, test_y)\n",
        "test_sampler = SequentialSampler(test_data)\n",
        "test_dataloader = DataLoader(test_data,\n",
        "                             sampler=test_sampler,\n",
        "                             batch_size=3)"
      ],
      "execution_count": 10,
      "outputs": []
    },
    {
      "cell_type": "code",
      "metadata": {
        "colab": {
          "base_uri": "https://localhost:8080/",
          "height": 171,
          "referenced_widgets": [
            "c237229df9b3438ba3459e5b57900c4a",
            "9a7d5a8dc1ea4b2c8a9d439ed1f10ace",
            "0e37233c8825482899e9f8a1ef059889",
            "2765feb8310b43d895d002f3214af15d",
            "1e0f07d21db0427088dfed22cba71af7",
            "fc267aa268ab40a8a364a83b54807dd6",
            "65eab5d4d9224f9682dc65db748a5f00",
            "1ad6e77c2da64bae850406b26ba583fd"
          ]
        },
        "id": "VA5K1ZlXNvp-",
        "outputId": "ae2bdc6e-76d0-47ed-e8da-42f743b8022b"
      },
      "source": [
        "model = AutoModelForSequenceClassification.from_pretrained('allenai/scibert_scivocab_uncased',\n",
        "                                                      num_labels=2)\n",
        "model = model.to(device)"
      ],
      "execution_count": 11,
      "outputs": [
        {
          "output_type": "display_data",
          "data": {
            "application/vnd.jupyter.widget-view+json": {
              "model_id": "c237229df9b3438ba3459e5b57900c4a",
              "version_minor": 0,
              "version_major": 2
            },
            "text/plain": [
              "HBox(children=(FloatProgress(value=0.0, description='Downloading', max=442221694.0, style=ProgressStyle(descri…"
            ]
          },
          "metadata": {
            "tags": []
          }
        },
        {
          "output_type": "stream",
          "text": [
            "\n"
          ],
          "name": "stdout"
        },
        {
          "output_type": "stream",
          "text": [
            "Some weights of the model checkpoint at allenai/scibert_scivocab_uncased were not used when initializing BertForSequenceClassification: ['cls.predictions.bias', 'cls.predictions.transform.dense.weight', 'cls.predictions.transform.dense.bias', 'cls.predictions.transform.LayerNorm.weight', 'cls.predictions.transform.LayerNorm.bias', 'cls.predictions.decoder.weight', 'cls.predictions.decoder.bias', 'cls.seq_relationship.weight', 'cls.seq_relationship.bias']\n",
            "- This IS expected if you are initializing BertForSequenceClassification from the checkpoint of a model trained on another task or with another architecture (e.g. initializing a BertForSequenceClassification model from a BertForPreTraining model).\n",
            "- This IS NOT expected if you are initializing BertForSequenceClassification from the checkpoint of a model that you expect to be exactly identical (initializing a BertForSequenceClassification model from a BertForSequenceClassification model).\n",
            "Some weights of BertForSequenceClassification were not initialized from the model checkpoint at allenai/scibert_scivocab_uncased and are newly initialized: ['classifier.weight', 'classifier.bias']\n",
            "You should probably TRAIN this model on a down-stream task to be able to use it for predictions and inference.\n"
          ],
          "name": "stderr"
        }
      ]
    },
    {
      "cell_type": "code",
      "metadata": {
        "id": "zdfa2aXkNxJx"
      },
      "source": [
        "from transformers import AdamW\n",
        "\n",
        "param_optimizer = list(model.named_parameters())\n",
        "no_decay = ['bias', 'gamma', 'beta']\n",
        "optimizer_grouped_parameters = [\n",
        "    {'params': [p for n, p in param_optimizer if not any(nd in n for nd in no_decay)],\n",
        "     'weight_decay_rate': 0.01},\n",
        "    {'params': [p for n, p in param_optimizer if any(nd in n for nd in no_decay)],\n",
        "     'weight_decay_rate': 0.0}\n",
        "]\n",
        "\n",
        "optimizer = AdamW(model.parameters(), lr=5e-7)"
      ],
      "execution_count": 12,
      "outputs": []
    },
    {
      "cell_type": "code",
      "metadata": {
        "id": "fr2OGGPANzby"
      },
      "source": [
        "def train():\n",
        "\n",
        "    model.train()\n",
        "    total_loss, epoch_acc = 0, 0\n",
        "\n",
        "    for step, batch in enumerate(train_dataloader):\n",
        "\n",
        "        if step % 50 == 0 and not step == 0:\n",
        "            print('Batch {:>5,} of {:>5,}.'.format(step, len(train_dataloader)))\n",
        "\n",
        "        batch = [r.to(device) for r in batch]\n",
        "        sent_id, mask, labels = batch\n",
        "\n",
        "        model.zero_grad()\n",
        "\n",
        "        labels = torch.tensor(labels).unsqueeze(0)\n",
        "        output = model(sent_id, mask, labels=labels, return_dict=True)\n",
        "        loss = output.loss\n",
        "        preds = output.logits.squeeze().float()\n",
        "\n",
        "        labels = labels.squeeze().long()\n",
        "        preds = torch.argmax(preds, axis=1)\n",
        "        correct = (preds == labels).float()\n",
        "        acc = correct.sum() / len(correct)\n",
        "        epoch_acc += acc.item()\n",
        "        total_loss = total_loss + loss.item()\n",
        "\n",
        "        loss.backward()\n",
        "\n",
        "        torch.nn.utils.clip_grad_norm_(model.parameters(), 1.0)\n",
        "\n",
        "        optimizer.step()\n",
        "\n",
        "    avg_loss = total_loss / len(train_dataloader)\n",
        "\n",
        "    return avg_loss, epoch_acc/len(train_dataloader)\n"
      ],
      "execution_count": 13,
      "outputs": []
    },
    {
      "cell_type": "code",
      "metadata": {
        "id": "6EYA2qV2N2-M"
      },
      "source": [
        "def evaluate():\n",
        "\n",
        "    print(\"\\nEvaluating...\")\n",
        "\n",
        "    model.eval()\n",
        "    total_loss, epoch_acc = 0, 0\n",
        "\n",
        "    for step,batch in enumerate(val_dataloader):\n",
        "    \n",
        "        if step % 50 == 0 and not step == 0:\n",
        "            print('  Batch {:>5,}  of  {:>5,}.'.format(step, len(val_dataloader)))\n",
        "\n",
        "        batch = [t.to(device) for t in batch]\n",
        "        sent_id, mask, labels = batch\n",
        "\n",
        "        with torch.no_grad():\n",
        "          \n",
        "            labels = torch.tensor(labels).unsqueeze(0)\n",
        "            output = model(sent_id, mask, labels=labels, return_dict=True)\n",
        "            loss = output.loss\n",
        "            preds = output.logits.squeeze().float()\n",
        "            labels = labels.squeeze().long()\n",
        "\n",
        "            preds = torch.argmax(preds, axis = 1)\n",
        "            correct = (preds == labels).float() \n",
        "            acc = correct.sum() / len(correct)\n",
        "            epoch_acc += acc.item()\n",
        "            total_loss = total_loss + loss.item()\n",
        "\n",
        "    avg_loss = total_loss / len(val_dataloader) \n",
        "\n",
        "    return avg_loss, epoch_acc/len(val_dataloader)"
      ],
      "execution_count": 14,
      "outputs": []
    },
    {
      "cell_type": "code",
      "metadata": {
        "colab": {
          "base_uri": "https://localhost:8080/",
          "height": 1000
        },
        "id": "0geqqDsrN5fT",
        "outputId": "8189145d-32ab-4b7c-85d8-42faa861418c"
      },
      "source": [
        "epochs = 20\n",
        "best_valid_loss = float('inf')\n",
        "\n",
        "train_losses = []\n",
        "valid_losses = []\n",
        "\n",
        "for epoch in range(epochs):\n",
        "\n",
        "    print('\\n Epoch {:} / {:}'.format(epoch + 1, epochs))\n",
        "\n",
        "    train_loss, train_acc = train()\n",
        "\n",
        "    valid_loss, valid_acc = evaluate()\n",
        "\n",
        "    if valid_loss < best_valid_loss:\n",
        "        best_valid_loss = valid_loss\n",
        "        torch.save(model.state_dict(), '/content/drive/MyDrive/weights_dcipher/scibert_fine_tune_weights.pt')\n",
        "\n",
        "    train_losses.append(train_loss)\n",
        "    valid_losses.append(valid_loss)\n",
        "\n",
        "    print(f'\\tTrain Loss: {train_loss:.3f} | Train Acc: {train_acc*100:.2f}%')\n",
        "    print(f'\\t Val. Loss: {valid_loss:.3f} |  Val. Acc: {valid_acc*100:.2f}%')"
      ],
      "execution_count": 15,
      "outputs": [
        {
          "output_type": "stream",
          "text": [
            "\n",
            " Epoch 1 / 20\n"
          ],
          "name": "stdout"
        },
        {
          "output_type": "stream",
          "text": [
            "/usr/local/lib/python3.6/dist-packages/ipykernel_launcher.py:16: UserWarning: To copy construct from a tensor, it is recommended to use sourceTensor.clone().detach() or sourceTensor.clone().detach().requires_grad_(True), rather than torch.tensor(sourceTensor).\n",
            "  app.launch_new_instance()\n"
          ],
          "name": "stderr"
        },
        {
          "output_type": "stream",
          "text": [
            "Batch    50 of   400.\n",
            "Batch   100 of   400.\n",
            "Batch   150 of   400.\n",
            "Batch   200 of   400.\n",
            "Batch   250 of   400.\n",
            "Batch   300 of   400.\n",
            "Batch   350 of   400.\n",
            "\n",
            "Evaluating...\n"
          ],
          "name": "stdout"
        },
        {
          "output_type": "stream",
          "text": [
            "/usr/local/lib/python3.6/dist-packages/ipykernel_launcher.py:18: UserWarning: To copy construct from a tensor, it is recommended to use sourceTensor.clone().detach() or sourceTensor.clone().detach().requires_grad_(True), rather than torch.tensor(sourceTensor).\n"
          ],
          "name": "stderr"
        },
        {
          "output_type": "stream",
          "text": [
            "  Batch    50  of    100.\n",
            "\tTrain Loss: 0.649 | Train Acc: 60.30%\n",
            "\t Val. Loss: 0.596 |  Val. Acc: 65.15%\n",
            "\n",
            " Epoch 2 / 20\n",
            "Batch    50 of   400.\n",
            "Batch   100 of   400.\n",
            "Batch   150 of   400.\n",
            "Batch   200 of   400.\n",
            "Batch   250 of   400.\n",
            "Batch   300 of   400.\n",
            "Batch   350 of   400.\n",
            "\n",
            "Evaluating...\n",
            "  Batch    50  of    100.\n",
            "\tTrain Loss: 0.594 | Train Acc: 66.95%\n",
            "\t Val. Loss: 0.561 |  Val. Acc: 68.08%\n",
            "\n",
            " Epoch 3 / 20\n",
            "Batch    50 of   400.\n",
            "Batch   100 of   400.\n",
            "Batch   150 of   400.\n",
            "Batch   200 of   400.\n",
            "Batch   250 of   400.\n",
            "Batch   300 of   400.\n",
            "Batch   350 of   400.\n",
            "\n",
            "Evaluating...\n",
            "  Batch    50  of    100.\n",
            "\tTrain Loss: 0.559 | Train Acc: 70.46%\n",
            "\t Val. Loss: 0.538 |  Val. Acc: 71.33%\n",
            "\n",
            " Epoch 4 / 20\n",
            "Batch    50 of   400.\n",
            "Batch   100 of   400.\n",
            "Batch   150 of   400.\n",
            "Batch   200 of   400.\n",
            "Batch   250 of   400.\n",
            "Batch   300 of   400.\n",
            "Batch   350 of   400.\n",
            "\n",
            "Evaluating...\n",
            "  Batch    50  of    100.\n",
            "\tTrain Loss: 0.541 | Train Acc: 71.10%\n",
            "\t Val. Loss: 0.524 |  Val. Acc: 72.41%\n",
            "\n",
            " Epoch 5 / 20\n",
            "Batch    50 of   400.\n",
            "Batch   100 of   400.\n",
            "Batch   150 of   400.\n",
            "Batch   200 of   400.\n",
            "Batch   250 of   400.\n",
            "Batch   300 of   400.\n",
            "Batch   350 of   400.\n",
            "\n",
            "Evaluating...\n",
            "  Batch    50  of    100.\n",
            "\tTrain Loss: 0.520 | Train Acc: 72.66%\n",
            "\t Val. Loss: 0.517 |  Val. Acc: 72.24%\n",
            "\n",
            " Epoch 6 / 20\n",
            "Batch    50 of   400.\n",
            "Batch   100 of   400.\n",
            "Batch   150 of   400.\n",
            "Batch   200 of   400.\n",
            "Batch   250 of   400.\n",
            "Batch   300 of   400.\n",
            "Batch   350 of   400.\n",
            "\n",
            "Evaluating...\n",
            "  Batch    50  of    100.\n",
            "\tTrain Loss: 0.512 | Train Acc: 73.16%\n",
            "\t Val. Loss: 0.515 |  Val. Acc: 72.07%\n",
            "\n",
            " Epoch 7 / 20\n",
            "Batch    50 of   400.\n",
            "Batch   100 of   400.\n",
            "Batch   150 of   400.\n",
            "Batch   200 of   400.\n",
            "Batch   250 of   400.\n",
            "Batch   300 of   400.\n",
            "Batch   350 of   400.\n",
            "\n",
            "Evaluating...\n",
            "  Batch    50  of    100.\n",
            "\tTrain Loss: 0.500 | Train Acc: 73.84%\n",
            "\t Val. Loss: 0.504 |  Val. Acc: 73.16%\n",
            "\n",
            " Epoch 8 / 20\n",
            "Batch    50 of   400.\n",
            "Batch   100 of   400.\n",
            "Batch   150 of   400.\n",
            "Batch   200 of   400.\n",
            "Batch   250 of   400.\n",
            "Batch   300 of   400.\n",
            "Batch   350 of   400.\n",
            "\n",
            "Evaluating...\n",
            "  Batch    50  of    100.\n",
            "\tTrain Loss: 0.490 | Train Acc: 74.39%\n",
            "\t Val. Loss: 0.502 |  Val. Acc: 73.08%\n",
            "\n",
            " Epoch 9 / 20\n",
            "Batch    50 of   400.\n",
            "Batch   100 of   400.\n",
            "Batch   150 of   400.\n",
            "Batch   200 of   400.\n",
            "Batch   250 of   400.\n",
            "Batch   300 of   400.\n",
            "Batch   350 of   400.\n",
            "\n",
            "Evaluating...\n",
            "  Batch    50  of    100.\n",
            "\tTrain Loss: 0.483 | Train Acc: 74.91%\n",
            "\t Val. Loss: 0.500 |  Val. Acc: 73.41%\n",
            "\n",
            " Epoch 10 / 20\n",
            "Batch    50 of   400.\n",
            "Batch   100 of   400.\n",
            "Batch   150 of   400.\n",
            "Batch   200 of   400.\n",
            "Batch   250 of   400.\n",
            "Batch   300 of   400.\n",
            "Batch   350 of   400.\n",
            "\n",
            "Evaluating...\n",
            "  Batch    50  of    100.\n",
            "\tTrain Loss: 0.471 | Train Acc: 76.24%\n",
            "\t Val. Loss: 0.507 |  Val. Acc: 72.90%\n",
            "\n",
            " Epoch 11 / 20\n",
            "Batch    50 of   400.\n",
            "Batch   100 of   400.\n",
            "Batch   150 of   400.\n"
          ],
          "name": "stdout"
        },
        {
          "output_type": "error",
          "ename": "KeyboardInterrupt",
          "evalue": "ignored",
          "traceback": [
            "\u001b[0;31m---------------------------------------------------------------------------\u001b[0m",
            "\u001b[0;31mKeyboardInterrupt\u001b[0m                         Traceback (most recent call last)",
            "\u001b[0;32m<ipython-input-15-e60a557f04b9>\u001b[0m in \u001b[0;36m<module>\u001b[0;34m()\u001b[0m\n\u001b[1;32m      9\u001b[0m     \u001b[0mprint\u001b[0m\u001b[0;34m(\u001b[0m\u001b[0;34m'\\n Epoch {:} / {:}'\u001b[0m\u001b[0;34m.\u001b[0m\u001b[0mformat\u001b[0m\u001b[0;34m(\u001b[0m\u001b[0mepoch\u001b[0m \u001b[0;34m+\u001b[0m \u001b[0;36m1\u001b[0m\u001b[0;34m,\u001b[0m \u001b[0mepochs\u001b[0m\u001b[0;34m)\u001b[0m\u001b[0;34m)\u001b[0m\u001b[0;34m\u001b[0m\u001b[0;34m\u001b[0m\u001b[0m\n\u001b[1;32m     10\u001b[0m \u001b[0;34m\u001b[0m\u001b[0m\n\u001b[0;32m---> 11\u001b[0;31m     \u001b[0mtrain_loss\u001b[0m\u001b[0;34m,\u001b[0m \u001b[0mtrain_acc\u001b[0m \u001b[0;34m=\u001b[0m \u001b[0mtrain\u001b[0m\u001b[0;34m(\u001b[0m\u001b[0;34m)\u001b[0m\u001b[0;34m\u001b[0m\u001b[0;34m\u001b[0m\u001b[0m\n\u001b[0m\u001b[1;32m     12\u001b[0m \u001b[0;34m\u001b[0m\u001b[0m\n\u001b[1;32m     13\u001b[0m     \u001b[0mvalid_loss\u001b[0m\u001b[0;34m,\u001b[0m \u001b[0mvalid_acc\u001b[0m \u001b[0;34m=\u001b[0m \u001b[0mevaluate\u001b[0m\u001b[0;34m(\u001b[0m\u001b[0;34m)\u001b[0m\u001b[0;34m\u001b[0m\u001b[0;34m\u001b[0m\u001b[0m\n",
            "\u001b[0;32m<ipython-input-13-12e0cd1958bd>\u001b[0m in \u001b[0;36mtrain\u001b[0;34m()\u001b[0m\n\u001b[1;32m     26\u001b[0m         \u001b[0mtotal_loss\u001b[0m \u001b[0;34m=\u001b[0m \u001b[0mtotal_loss\u001b[0m \u001b[0;34m+\u001b[0m \u001b[0mloss\u001b[0m\u001b[0;34m.\u001b[0m\u001b[0mitem\u001b[0m\u001b[0;34m(\u001b[0m\u001b[0;34m)\u001b[0m\u001b[0;34m\u001b[0m\u001b[0;34m\u001b[0m\u001b[0m\n\u001b[1;32m     27\u001b[0m \u001b[0;34m\u001b[0m\u001b[0m\n\u001b[0;32m---> 28\u001b[0;31m         \u001b[0mloss\u001b[0m\u001b[0;34m.\u001b[0m\u001b[0mbackward\u001b[0m\u001b[0;34m(\u001b[0m\u001b[0;34m)\u001b[0m\u001b[0;34m\u001b[0m\u001b[0;34m\u001b[0m\u001b[0m\n\u001b[0m\u001b[1;32m     29\u001b[0m \u001b[0;34m\u001b[0m\u001b[0m\n\u001b[1;32m     30\u001b[0m         \u001b[0mtorch\u001b[0m\u001b[0;34m.\u001b[0m\u001b[0mnn\u001b[0m\u001b[0;34m.\u001b[0m\u001b[0mutils\u001b[0m\u001b[0;34m.\u001b[0m\u001b[0mclip_grad_norm_\u001b[0m\u001b[0;34m(\u001b[0m\u001b[0mmodel\u001b[0m\u001b[0;34m.\u001b[0m\u001b[0mparameters\u001b[0m\u001b[0;34m(\u001b[0m\u001b[0;34m)\u001b[0m\u001b[0;34m,\u001b[0m \u001b[0;36m1.0\u001b[0m\u001b[0;34m)\u001b[0m\u001b[0;34m\u001b[0m\u001b[0;34m\u001b[0m\u001b[0m\n",
            "\u001b[0;32m/usr/local/lib/python3.6/dist-packages/torch/tensor.py\u001b[0m in \u001b[0;36mbackward\u001b[0;34m(self, gradient, retain_graph, create_graph)\u001b[0m\n\u001b[1;32m    219\u001b[0m                 \u001b[0mretain_graph\u001b[0m\u001b[0;34m=\u001b[0m\u001b[0mretain_graph\u001b[0m\u001b[0;34m,\u001b[0m\u001b[0;34m\u001b[0m\u001b[0;34m\u001b[0m\u001b[0m\n\u001b[1;32m    220\u001b[0m                 create_graph=create_graph)\n\u001b[0;32m--> 221\u001b[0;31m         \u001b[0mtorch\u001b[0m\u001b[0;34m.\u001b[0m\u001b[0mautograd\u001b[0m\u001b[0;34m.\u001b[0m\u001b[0mbackward\u001b[0m\u001b[0;34m(\u001b[0m\u001b[0mself\u001b[0m\u001b[0;34m,\u001b[0m \u001b[0mgradient\u001b[0m\u001b[0;34m,\u001b[0m \u001b[0mretain_graph\u001b[0m\u001b[0;34m,\u001b[0m \u001b[0mcreate_graph\u001b[0m\u001b[0;34m)\u001b[0m\u001b[0;34m\u001b[0m\u001b[0;34m\u001b[0m\u001b[0m\n\u001b[0m\u001b[1;32m    222\u001b[0m \u001b[0;34m\u001b[0m\u001b[0m\n\u001b[1;32m    223\u001b[0m     \u001b[0;32mdef\u001b[0m \u001b[0mregister_hook\u001b[0m\u001b[0;34m(\u001b[0m\u001b[0mself\u001b[0m\u001b[0;34m,\u001b[0m \u001b[0mhook\u001b[0m\u001b[0;34m)\u001b[0m\u001b[0;34m:\u001b[0m\u001b[0;34m\u001b[0m\u001b[0;34m\u001b[0m\u001b[0m\n",
            "\u001b[0;32m/usr/local/lib/python3.6/dist-packages/torch/autograd/__init__.py\u001b[0m in \u001b[0;36mbackward\u001b[0;34m(tensors, grad_tensors, retain_graph, create_graph, grad_variables)\u001b[0m\n\u001b[1;32m    130\u001b[0m     Variable._execution_engine.run_backward(\n\u001b[1;32m    131\u001b[0m         \u001b[0mtensors\u001b[0m\u001b[0;34m,\u001b[0m \u001b[0mgrad_tensors_\u001b[0m\u001b[0;34m,\u001b[0m \u001b[0mretain_graph\u001b[0m\u001b[0;34m,\u001b[0m \u001b[0mcreate_graph\u001b[0m\u001b[0;34m,\u001b[0m\u001b[0;34m\u001b[0m\u001b[0;34m\u001b[0m\u001b[0m\n\u001b[0;32m--> 132\u001b[0;31m         allow_unreachable=True)  # allow_unreachable flag\n\u001b[0m\u001b[1;32m    133\u001b[0m \u001b[0;34m\u001b[0m\u001b[0m\n\u001b[1;32m    134\u001b[0m \u001b[0;34m\u001b[0m\u001b[0m\n",
            "\u001b[0;31mKeyboardInterrupt\u001b[0m: "
          ]
        }
      ]
    },
    {
      "cell_type": "code",
      "metadata": {
        "id": "p07XEVfrU5fL",
        "colab": {
          "base_uri": "https://localhost:8080/"
        },
        "outputId": "e36f543b-a230-4cfc-df11-fa91b6cb5166"
      },
      "source": [
        "with torch.no_grad():\n",
        "    torch.cuda.empty_cache()\n",
        "path = '/content/drive/MyDrive/weights_dcipher/scibert_fine_tune_weights.pt'\n",
        "model.load_state_dict(torch.load(path))"
      ],
      "execution_count": 16,
      "outputs": [
        {
          "output_type": "execute_result",
          "data": {
            "text/plain": [
              "<All keys matched successfully>"
            ]
          },
          "metadata": {
            "tags": []
          },
          "execution_count": 16
        }
      ]
    },
    {
      "cell_type": "code",
      "metadata": {
        "id": "sCePRxQrjK8P",
        "colab": {
          "base_uri": "https://localhost:8080/",
          "height": 295
        },
        "outputId": "f76a6f42-10a5-40ff-9951-ad5dcd4cfe1a"
      },
      "source": [
        "preds = []\n",
        "probas_0 = []\n",
        "probas_1 = []\n",
        "\n",
        "for i, batch in enumerate(test_dataloader):\n",
        "\n",
        "    batch = [t.to(device) for t in batch]\n",
        "    sent_id, mask, labels = batch\n",
        "\n",
        "    with torch.no_grad():\n",
        "        output = model(sent_id, mask)\n",
        "        pred = output.logits.squeeze().float()\n",
        "        probas_0.extend(pred[: , 0:1].squeeze().float().detach().cpu().numpy())\n",
        "        probas_1.extend(pred[: , 1:2].squeeze().float().detach().cpu().numpy())\n",
        "        pred = torch.argmax(pred, axis=1)\n",
        "        pred = pred.squeeze().float().detach().cpu().numpy()\n",
        "        preds.extend(pred)\n",
        "\n",
        "preds = np.asarray(preds)\n",
        "print(classification_report(test_y, preds))\n",
        "pd.crosstab(test_y, preds)"
      ],
      "execution_count": 19,
      "outputs": [
        {
          "output_type": "stream",
          "text": [
            "              precision    recall  f1-score   support\n",
            "\n",
            "           0       0.74      0.71      0.73       740\n",
            "           1       0.73      0.76      0.75       759\n",
            "\n",
            "    accuracy                           0.74      1499\n",
            "   macro avg       0.74      0.74      0.74      1499\n",
            "weighted avg       0.74      0.74      0.74      1499\n",
            "\n"
          ],
          "name": "stdout"
        },
        {
          "output_type": "execute_result",
          "data": {
            "text/html": [
              "<div>\n",
              "<style scoped>\n",
              "    .dataframe tbody tr th:only-of-type {\n",
              "        vertical-align: middle;\n",
              "    }\n",
              "\n",
              "    .dataframe tbody tr th {\n",
              "        vertical-align: top;\n",
              "    }\n",
              "\n",
              "    .dataframe thead th {\n",
              "        text-align: right;\n",
              "    }\n",
              "</style>\n",
              "<table border=\"1\" class=\"dataframe\">\n",
              "  <thead>\n",
              "    <tr style=\"text-align: right;\">\n",
              "      <th>col_0</th>\n",
              "      <th>0.0</th>\n",
              "      <th>1.0</th>\n",
              "    </tr>\n",
              "    <tr>\n",
              "      <th>row_0</th>\n",
              "      <th></th>\n",
              "      <th></th>\n",
              "    </tr>\n",
              "  </thead>\n",
              "  <tbody>\n",
              "    <tr>\n",
              "      <th>0</th>\n",
              "      <td>526</td>\n",
              "      <td>214</td>\n",
              "    </tr>\n",
              "    <tr>\n",
              "      <th>1</th>\n",
              "      <td>181</td>\n",
              "      <td>578</td>\n",
              "    </tr>\n",
              "  </tbody>\n",
              "</table>\n",
              "</div>"
            ],
            "text/plain": [
              "col_0  0.0  1.0\n",
              "row_0          \n",
              "0      526  214\n",
              "1      181  578"
            ]
          },
          "metadata": {
            "tags": []
          },
          "execution_count": 19
        }
      ]
    },
    {
      "cell_type": "code",
      "metadata": {
        "id": "V2_rAKBOWTn6",
        "colab": {
          "base_uri": "https://localhost:8080/",
          "height": 330
        },
        "outputId": "5bf4bcb6-d5e4-4900-b07c-d86eb254ea6c"
      },
      "source": [
        "auc_1 = roc_auc_score(test_y, probas_1)\n",
        "\n",
        "print('Class 1: ROC AUC = %.3f' % (auc_1))\n",
        "\n",
        "f1 = f1_score(test_y, preds)\n",
        "print('F1 Score = %.3f' % (f1))\n",
        "\n",
        "acc = accuracy_score(test_y, preds)\n",
        "print('Accuracy = %.3f' % (acc))\n",
        "\n",
        "ns_1 = [1 for _ in range(len(test_y))]\n",
        "\n",
        "fpr_0, tpr_0, _ = roc_curve(test_y, probas_0)\n",
        "fpr_1, tpr_1, _ = roc_curve(test_y, probas_1)\n",
        "fpr_ns_1, tpr_ns_1, _ =  roc_curve(test_y, ns_1)\n",
        "\n",
        "pyplot.plot(fpr_ns_1, tpr_ns_1, linestyle='--', label='Only 1')\n",
        "pyplot.plot(fpr_1, tpr_1, marker='.', label='Model')\n",
        "pyplot.xlabel('False Positive Rate')\n",
        "pyplot.ylabel('True Positive Rate')\n",
        "pyplot.legend()\n",
        "pyplot.show()"
      ],
      "execution_count": 21,
      "outputs": [
        {
          "output_type": "stream",
          "text": [
            "Class 1: ROC AUC = 0.831\n",
            "F1 Score = 0.745\n",
            "Accuracy = 0.736\n"
          ],
          "name": "stdout"
        },
        {
          "output_type": "display_data",
          "data": {
            "image/png": "[encoded data removed]",
            "text/plain": [
              "<Figure size 432x288 with 1 Axes>"
            ]
          },
          "metadata": {
            "tags": [],
            "needs_background": "light"
          }
        }
      ]
    },
    {
      "cell_type": "code",
      "metadata": {
        "id": "IaYwHMoFYimI"
      },
      "source": [
        ""
      ],
      "execution_count": null,
      "outputs": []
    }
  ]
}